{
 "cells": [
  {
   "cell_type": "code",
   "execution_count": 1,
   "id": "approximate-particular",
   "metadata": {},
   "outputs": [],
   "source": [
    "# Lab 12 Character Sequence RNN\n",
    "import tensorflow as tf\n",
    "import numpy as np"
   ]
  },
  {
   "cell_type": "code",
   "execution_count": 2,
   "id": "sublime-grass",
   "metadata": {},
   "outputs": [],
   "source": [
    "# transformer\n",
    "sample = \" if you want you\"\n",
    "idx2char = list(set(sample))  # index -> char\n",
    "char2idx = {c: i for i, c in enumerate(idx2char)}  # char -> idex"
   ]
  },
  {
   "cell_type": "code",
   "execution_count": 3,
   "id": "guilty-attempt",
   "metadata": {},
   "outputs": [],
   "source": [
    "# hyper parameters\n",
    "dic_size = len(char2idx)  # RNN input size (one hot size)\n",
    "hidden_size = len(char2idx)  # RNN output size\n",
    "num_classes = len(char2idx)  # final output size (RNN or softmax, etc.)\n",
    "batch_size = 1  # one sample data, one batch\n",
    "sequence_length = len(sample) - 1  # number of lstm rollings (unit #)\n",
    "learning_rate = 0.1"
   ]
  },
  {
   "cell_type": "code",
   "execution_count": 4,
   "id": "dietary-navigator",
   "metadata": {},
   "outputs": [],
   "source": [
    "sample_idx = [char2idx[c] for c in sample]  # char to index\n",
    "x_data = [sample_idx[:-1]]  # X data sample (0 ~ n-1) hello: hell\n",
    "y_data = [sample_idx[1:]]   # Y label sample (1 ~ n) hello: ello"
   ]
  },
  {
   "cell_type": "code",
   "execution_count": 5,
   "id": "together-remedy",
   "metadata": {},
   "outputs": [],
   "source": [
    "x_one_hot_eager = tf.one_hot(x_data, num_classes)  # one hot: 1 -> 0 1 0 0 0 0 0 0 0 0\n",
    "x_one_hot_numpy = tf.keras.utils.to_categorical(x_data, num_classes)  # it'll generate numpy array, either way works\n",
    "y_one_hot_eager = tf.one_hot(y_data, num_classes)"
   ]
  },
  {
   "cell_type": "code",
   "execution_count": 6,
   "id": "dietary-remove",
   "metadata": {},
   "outputs": [
    {
     "name": "stdout",
     "output_type": "stream",
     "text": [
      "Model: \"sequential\"\n",
      "_________________________________________________________________\n",
      "Layer (type)                 Output Shape              Param #   \n",
      "=================================================================\n",
      "lstm (LSTM)                  (None, 15, 10)            840       \n",
      "_________________________________________________________________\n",
      "time_distributed (TimeDistri (None, 15, 10)            110       \n",
      "=================================================================\n",
      "Total params: 950\n",
      "Trainable params: 950\n",
      "Non-trainable params: 0\n",
      "_________________________________________________________________\n"
     ]
    }
   ],
   "source": [
    "tf.model = tf.keras.Sequential();\n",
    "tf.model.add(tf.keras.layers.\n",
    "             LSTM(units=num_classes, input_shape=(sequence_length, x_one_hot_eager.shape[2]), return_sequences=True))\n",
    "tf.model.add(tf.keras.layers.TimeDistributed(tf.keras.layers.Dense(units=num_classes, activation='softmax')))\n",
    "\n",
    "tf.model.compile(loss='categorical_crossentropy', optimizer=tf.keras.optimizers.Adam(lr=learning_rate),\n",
    "                 metrics=['accuracy'])\n",
    "\n",
    "tf.model.summary()"
   ]
  },
  {
   "cell_type": "code",
   "execution_count": 7,
   "id": "finite-repository",
   "metadata": {},
   "outputs": [
    {
     "name": "stdout",
     "output_type": "stream",
     "text": [
      "Epoch 1/50\n",
      "1/1 [==============================] - 12s 12s/step - loss: 2.2997 - accuracy: 0.0667\n",
      "Epoch 2/50\n",
      "1/1 [==============================] - 0s 11ms/step - loss: 2.1358 - accuracy: 0.2000\n",
      "Epoch 3/50\n",
      "1/1 [==============================] - 0s 13ms/step - loss: 2.0055 - accuracy: 0.2000\n",
      "Epoch 4/50\n",
      "1/1 [==============================] - 0s 10ms/step - loss: 1.8236 - accuracy: 0.4667\n",
      "Epoch 5/50\n",
      "1/1 [==============================] - 0s 12ms/step - loss: 1.5750 - accuracy: 0.6000\n",
      "Epoch 6/50\n",
      "1/1 [==============================] - 0s 10ms/step - loss: 1.2705 - accuracy: 0.6667\n",
      "Epoch 7/50\n",
      "1/1 [==============================] - 0s 9ms/step - loss: 1.0026 - accuracy: 0.8000\n",
      "Epoch 8/50\n",
      "1/1 [==============================] - 0s 10ms/step - loss: 0.7800 - accuracy: 0.8000\n",
      "Epoch 9/50\n",
      "1/1 [==============================] - 0s 12ms/step - loss: 0.5885 - accuracy: 0.8667\n",
      "Epoch 10/50\n",
      "1/1 [==============================] - 0s 12ms/step - loss: 0.4427 - accuracy: 0.9333\n",
      "Epoch 11/50\n",
      "1/1 [==============================] - 0s 10ms/step - loss: 0.3336 - accuracy: 1.0000\n",
      "Epoch 12/50\n",
      "1/1 [==============================] - 0s 11ms/step - loss: 0.2477 - accuracy: 1.0000\n",
      "Epoch 13/50\n",
      "1/1 [==============================] - 0s 11ms/step - loss: 0.1836 - accuracy: 1.0000\n",
      "Epoch 14/50\n",
      "1/1 [==============================] - 0s 11ms/step - loss: 0.1370 - accuracy: 1.0000\n",
      "Epoch 15/50\n",
      "1/1 [==============================] - 0s 10ms/step - loss: 0.1027 - accuracy: 1.0000\n",
      "Epoch 16/50\n",
      "1/1 [==============================] - 0s 10ms/step - loss: 0.0774 - accuracy: 1.0000\n",
      "Epoch 17/50\n",
      "1/1 [==============================] - 0s 9ms/step - loss: 0.0581 - accuracy: 1.0000\n",
      "Epoch 18/50\n",
      "1/1 [==============================] - 0s 14ms/step - loss: 0.0428 - accuracy: 1.0000\n",
      "Epoch 19/50\n",
      "1/1 [==============================] - 0s 11ms/step - loss: 0.0309 - accuracy: 1.0000\n",
      "Epoch 20/50\n",
      "1/1 [==============================] - 0s 12ms/step - loss: 0.0222 - accuracy: 1.0000\n",
      "Epoch 21/50\n",
      "1/1 [==============================] - 0s 14ms/step - loss: 0.0161 - accuracy: 1.0000\n",
      "Epoch 22/50\n",
      "1/1 [==============================] - 0s 14ms/step - loss: 0.0119 - accuracy: 1.0000\n",
      "Epoch 23/50\n",
      "1/1 [==============================] - 0s 13ms/step - loss: 0.0091 - accuracy: 1.0000\n",
      "Epoch 24/50\n",
      "1/1 [==============================] - 0s 10ms/step - loss: 0.0070 - accuracy: 1.0000\n",
      "Epoch 25/50\n",
      "1/1 [==============================] - 0s 10ms/step - loss: 0.0056 - accuracy: 1.0000\n",
      "Epoch 26/50\n",
      "1/1 [==============================] - 0s 12ms/step - loss: 0.0045 - accuracy: 1.0000\n",
      "Epoch 27/50\n",
      "1/1 [==============================] - 0s 13ms/step - loss: 0.0036 - accuracy: 1.0000\n",
      "Epoch 28/50\n",
      "1/1 [==============================] - 0s 11ms/step - loss: 0.0030 - accuracy: 1.0000\n",
      "Epoch 29/50\n",
      "1/1 [==============================] - 0s 10ms/step - loss: 0.0025 - accuracy: 1.0000\n",
      "Epoch 30/50\n",
      "1/1 [==============================] - 0s 10ms/step - loss: 0.0021 - accuracy: 1.0000\n",
      "Epoch 31/50\n",
      "1/1 [==============================] - 0s 12ms/step - loss: 0.0018 - accuracy: 1.0000\n",
      "Epoch 32/50\n",
      "1/1 [==============================] - 0s 11ms/step - loss: 0.0015 - accuracy: 1.0000\n",
      "Epoch 33/50\n",
      "1/1 [==============================] - 0s 15ms/step - loss: 0.0014 - accuracy: 1.0000\n",
      "Epoch 34/50\n",
      "1/1 [==============================] - 0s 11ms/step - loss: 0.0012 - accuracy: 1.0000\n",
      "Epoch 35/50\n",
      "1/1 [==============================] - 0s 13ms/step - loss: 0.0011 - accuracy: 1.0000\n",
      "Epoch 36/50\n",
      "1/1 [==============================] - 0s 11ms/step - loss: 9.9387e-04 - accuracy: 1.0000\n",
      "Epoch 37/50\n",
      "1/1 [==============================] - 0s 11ms/step - loss: 9.1281e-04 - accuracy: 1.0000\n",
      "Epoch 38/50\n",
      "1/1 [==============================] - 0s 12ms/step - loss: 8.4450e-04 - accuracy: 1.0000\n",
      "Epoch 39/50\n",
      "1/1 [==============================] - 0s 10ms/step - loss: 7.8614e-04 - accuracy: 1.0000\n",
      "Epoch 40/50\n",
      "1/1 [==============================] - 0s 13ms/step - loss: 7.3583e-04 - accuracy: 1.0000\n",
      "Epoch 41/50\n",
      "1/1 [==============================] - 0s 10ms/step - loss: 6.9202e-04 - accuracy: 1.0000\n",
      "Epoch 42/50\n",
      "1/1 [==============================] - 0s 14ms/step - loss: 6.5362e-04 - accuracy: 1.0000\n",
      "Epoch 43/50\n",
      "1/1 [==============================] - 0s 14ms/step - loss: 6.1979e-04 - accuracy: 1.0000\n",
      "Epoch 44/50\n",
      "1/1 [==============================] - 0s 10ms/step - loss: 5.8987e-04 - accuracy: 1.0000\n",
      "Epoch 45/50\n",
      "1/1 [==============================] - 0s 12ms/step - loss: 5.6329e-04 - accuracy: 1.0000\n",
      "Epoch 46/50\n",
      "1/1 [==============================] - 0s 10ms/step - loss: 5.3967e-04 - accuracy: 1.0000\n",
      "Epoch 47/50\n",
      "1/1 [==============================] - 0s 13ms/step - loss: 5.1859e-04 - accuracy: 1.0000\n",
      "Epoch 48/50\n",
      "1/1 [==============================] - 0s 11ms/step - loss: 4.9979e-04 - accuracy: 1.0000\n",
      "Epoch 49/50\n",
      "1/1 [==============================] - 0s 12ms/step - loss: 4.8292e-04 - accuracy: 1.0000\n",
      "Epoch 50/50\n",
      "1/1 [==============================] - 0s 10ms/step - loss: 4.6781e-04 - accuracy: 1.0000\n"
     ]
    },
    {
     "data": {
      "text/plain": [
       "<tensorflow.python.keras.callbacks.History at 0x14ad7b7ec40>"
      ]
     },
     "execution_count": 7,
     "metadata": {},
     "output_type": "execute_result"
    }
   ],
   "source": [
    "tf.model.fit(x_one_hot_eager, y_one_hot_eager, epochs=50)"
   ]
  },
  {
   "cell_type": "code",
   "execution_count": 8,
   "id": "innocent-motorcycle",
   "metadata": {},
   "outputs": [
    {
     "name": "stdout",
     "output_type": "stream",
     "text": [
      "\tPrediction str:  if you want you\n"
     ]
    }
   ],
   "source": [
    "predictions = tf.model.predict(x_one_hot_eager)\n",
    "\n",
    "for i, prediction in enumerate(predictions):\n",
    "    # print char using argmax, dict\n",
    "    result_str = [idx2char[c] for c in np.argmax(prediction, axis=1)]\n",
    "    print(\"\\tPrediction str: \", ''.join(result_str))"
   ]
  }
 ],
 "metadata": {
  "kernelspec": {
   "display_name": "tensorflow",
   "language": "python",
   "name": "tensorflow"
  },
  "language_info": {
   "codemirror_mode": {
    "name": "ipython",
    "version": 3
   },
   "file_extension": ".py",
   "mimetype": "text/x-python",
   "name": "python",
   "nbconvert_exporter": "python",
   "pygments_lexer": "ipython3",
   "version": "3.8.5"
  }
 },
 "nbformat": 4,
 "nbformat_minor": 5
}
