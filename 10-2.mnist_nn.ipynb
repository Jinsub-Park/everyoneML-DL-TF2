{
 "cells": [
  {
   "cell_type": "code",
   "execution_count": 1,
   "metadata": {},
   "outputs": [
    {
     "name": "stdout",
     "output_type": "stream",
     "text": [
      "Downloading data from https://storage.googleapis.com/tensorflow/tf-keras-datasets/mnist.npz\n",
      "11493376/11490434 [==============================] - 0s 0us/step\n",
      "(60000, 28, 28)\n",
      "Model: \"sequential\"\n",
      "_________________________________________________________________\n",
      "Layer (type)                 Output Shape              Param #   \n",
      "=================================================================\n",
      "dense (Dense)                (None, 256)               200960    \n",
      "_________________________________________________________________\n",
      "dense_1 (Dense)              (None, 256)               65792     \n",
      "_________________________________________________________________\n",
      "dense_2 (Dense)              (None, 10)                2570      \n",
      "=================================================================\n",
      "Total params: 269,322\n",
      "Trainable params: 269,322\n",
      "Non-trainable params: 0\n",
      "_________________________________________________________________\n",
      "Epoch 1/50\n",
      "600/600 [==============================] - 8s 7ms/step - loss: 6.1025 - accuracy: 0.8401\n",
      "Epoch 2/50\n",
      "600/600 [==============================] - 2s 4ms/step - loss: 0.4216 - accuracy: 0.9426\n",
      "Epoch 3/50\n",
      "600/600 [==============================] - 2s 4ms/step - loss: 0.2448 - accuracy: 0.9594\n",
      "Epoch 4/50\n",
      "600/600 [==============================] - 2s 4ms/step - loss: 0.1617 - accuracy: 0.9687\n",
      "Epoch 5/50\n",
      "600/600 [==============================] - 2s 4ms/step - loss: 0.1347 - accuracy: 0.9735\n",
      "Epoch 6/50\n",
      "600/600 [==============================] - 2s 4ms/step - loss: 0.1107 - accuracy: 0.9752\n",
      "Epoch 7/50\n",
      "600/600 [==============================] - 2s 4ms/step - loss: 0.1006 - accuracy: 0.9769\n",
      "Epoch 8/50\n",
      "600/600 [==============================] - 2s 4ms/step - loss: 0.0898 - accuracy: 0.9784\n",
      "Epoch 9/50\n",
      "600/600 [==============================] - 2s 4ms/step - loss: 0.0863 - accuracy: 0.9794\n",
      "Epoch 10/50\n",
      "600/600 [==============================] - 2s 4ms/step - loss: 0.0696 - accuracy: 0.9822\n",
      "Epoch 11/50\n",
      "600/600 [==============================] - 3s 4ms/step - loss: 0.0765 - accuracy: 0.9809\n",
      "Epoch 12/50\n",
      "600/600 [==============================] - 2s 4ms/step - loss: 0.0584 - accuracy: 0.9833\n",
      "Epoch 13/50\n",
      "600/600 [==============================] - 2s 4ms/step - loss: 0.0672 - accuracy: 0.9826\n",
      "Epoch 14/50\n",
      "600/600 [==============================] - 2s 4ms/step - loss: 0.0647 - accuracy: 0.9837\n",
      "Epoch 15/50\n",
      "600/600 [==============================] - 2s 4ms/step - loss: 0.0600 - accuracy: 0.9835\n",
      "Epoch 16/50\n",
      "600/600 [==============================] - 2s 4ms/step - loss: 0.0671 - accuracy: 0.9842\n",
      "Epoch 17/50\n",
      "600/600 [==============================] - 2s 4ms/step - loss: 0.0522 - accuracy: 0.9867\n",
      "Epoch 18/50\n",
      "600/600 [==============================] - 2s 4ms/step - loss: 0.0505 - accuracy: 0.9864\n",
      "Epoch 19/50\n",
      "600/600 [==============================] - 2s 4ms/step - loss: 0.0570 - accuracy: 0.9852\n",
      "Epoch 20/50\n",
      "600/600 [==============================] - 2s 4ms/step - loss: 0.0430 - accuracy: 0.9883\n",
      "Epoch 21/50\n",
      "600/600 [==============================] - 3s 4ms/step - loss: 0.0417 - accuracy: 0.9899\n",
      "Epoch 22/50\n",
      "600/600 [==============================] - 2s 4ms/step - loss: 0.0419 - accuracy: 0.9889\n",
      "Epoch 23/50\n",
      "600/600 [==============================] - 2s 4ms/step - loss: 0.0413 - accuracy: 0.9902\n",
      "Epoch 24/50\n",
      "600/600 [==============================] - 2s 4ms/step - loss: 0.0425 - accuracy: 0.9893\n",
      "Epoch 25/50\n",
      "600/600 [==============================] - 2s 4ms/step - loss: 0.0523 - accuracy: 0.9872\n",
      "Epoch 26/50\n",
      "600/600 [==============================] - 2s 4ms/step - loss: 0.0371 - accuracy: 0.9903\n",
      "Epoch 27/50\n",
      "600/600 [==============================] - 2s 4ms/step - loss: 0.0331 - accuracy: 0.9915\n",
      "Epoch 28/50\n",
      "600/600 [==============================] - 2s 4ms/step - loss: 0.0475 - accuracy: 0.9900\n",
      "Epoch 29/50\n",
      "600/600 [==============================] - 2s 4ms/step - loss: 0.0324 - accuracy: 0.9924\n",
      "Epoch 30/50\n",
      "600/600 [==============================] - 2s 4ms/step - loss: 0.0355 - accuracy: 0.9917\n",
      "Epoch 31/50\n",
      "600/600 [==============================] - 2s 4ms/step - loss: 0.0416 - accuracy: 0.9907\n",
      "Epoch 32/50\n",
      "600/600 [==============================] - 2s 4ms/step - loss: 0.0320 - accuracy: 0.9923\n",
      "Epoch 33/50\n",
      "600/600 [==============================] - 3s 4ms/step - loss: 0.0336 - accuracy: 0.9919\n",
      "Epoch 34/50\n",
      "600/600 [==============================] - 3s 4ms/step - loss: 0.0338 - accuracy: 0.9919\n",
      "Epoch 35/50\n",
      "600/600 [==============================] - 2s 4ms/step - loss: 0.0164 - accuracy: 0.9953\n",
      "Epoch 36/50\n",
      "600/600 [==============================] - 3s 4ms/step - loss: 0.0428 - accuracy: 0.9917\n",
      "Epoch 37/50\n",
      "600/600 [==============================] - 2s 4ms/step - loss: 0.0373 - accuracy: 0.9920\n",
      "Epoch 38/50\n",
      "600/600 [==============================] - 2s 4ms/step - loss: 0.0460 - accuracy: 0.9913\n",
      "Epoch 39/50\n",
      "600/600 [==============================] - 2s 4ms/step - loss: 0.0293 - accuracy: 0.9939\n",
      "Epoch 40/50\n",
      "600/600 [==============================] - 2s 4ms/step - loss: 0.0300 - accuracy: 0.9939\n",
      "Epoch 41/50\n",
      "600/600 [==============================] - 2s 4ms/step - loss: 0.0341 - accuracy: 0.9935\n",
      "Epoch 42/50\n",
      "600/600 [==============================] - 2s 4ms/step - loss: 0.0269 - accuracy: 0.9935\n",
      "Epoch 43/50\n",
      "600/600 [==============================] - 2s 4ms/step - loss: 0.0323 - accuracy: 0.9937\n",
      "Epoch 44/50\n",
      "600/600 [==============================] - 2s 4ms/step - loss: 0.0308 - accuracy: 0.9935\n",
      "Epoch 45/50\n",
      "600/600 [==============================] - 2s 4ms/step - loss: 0.0339 - accuracy: 0.9933\n",
      "Epoch 46/50\n",
      "600/600 [==============================] - 3s 4ms/step - loss: 0.0315 - accuracy: 0.9940\n",
      "Epoch 47/50\n",
      "600/600 [==============================] - 2s 4ms/step - loss: 0.0256 - accuracy: 0.9950\n",
      "Epoch 48/50\n",
      "600/600 [==============================] - 2s 4ms/step - loss: 0.0245 - accuracy: 0.9946\n",
      "Epoch 49/50\n",
      "600/600 [==============================] - 2s 4ms/step - loss: 0.0354 - accuracy: 0.9930\n",
      "Epoch 50/50\n",
      "600/600 [==============================] - 2s 4ms/step - loss: 0.0265 - accuracy: 0.9944\n",
      "index:  3757 actual y:  8 predicted y:  8\n",
      "index:  7304 actual y:  5 predicted y:  5\n",
      "index:  7300 actual y:  7 predicted y:  7\n",
      "index:  6039 actual y:  9 predicted y:  9\n",
      "index:  9429 actual y:  3 predicted y:  3\n",
      "index:  4420 actual y:  5 predicted y:  5\n",
      "index:  5507 actual y:  2 predicted y:  2\n",
      "index:  8809 actual y:  1 predicted y:  1\n",
      "index:  654 actual y:  5 predicted y:  5\n",
      "index:  7302 actual y:  8 predicted y:  8\n",
      "313/313 [==============================] - 1s 4ms/step - loss: 0.3088 - accuracy: 0.9720\n",
      "loss:  0.3088092505931854\n",
      "accuracy 0.972000002861023\n"
     ]
    }
   ],
   "source": [
    "# Lab 10 MNIST and NN\n",
    "import numpy as np\n",
    "import random\n",
    "import tensorflow as tf\n",
    "\n",
    "random.seed(777)  # for reproducibility\n",
    "learning_rate = 0.001\n",
    "batch_size = 100\n",
    "training_epochs = 50\n",
    "nb_classes = 10\n",
    "\n",
    "(x_train, y_train), (x_test2, y_test) = tf.keras.datasets.mnist.load_data()\n",
    "print(x_train.shape)\n",
    "\n",
    "x_train = x_train.reshape(x_train.shape[0], 28 * 28)\n",
    "x_test = x_test2.reshape(x_test2.shape[0], 28 * 28)\n",
    "\n",
    "y_train = tf.keras.utils.to_categorical(y_train, nb_classes)\n",
    "y_test = tf.keras.utils.to_categorical(y_test, nb_classes)\n",
    "\n",
    "tf.model = tf.keras.Sequential()\n",
    "tf.model.add(tf.keras.layers.Dense(input_dim=784, units=256, activation='relu'))\n",
    "tf.model.add(tf.keras.layers.Dense(units=256, activation='relu'))\n",
    "tf.model.add(tf.keras.layers.Dense(units=nb_classes, activation='softmax'))\n",
    "tf.model.compile(loss='categorical_crossentropy',\n",
    "                 optimizer=tf.keras.optimizers.Adam(lr=learning_rate), metrics=['accuracy'])\n",
    "tf.model.summary()\n",
    "\n",
    "tf.model.fit(x_train, y_train, batch_size=batch_size, epochs=training_epochs, verbose=1)\n",
    "\n",
    "# predict 10 random hand-writing data\n",
    "y_predicted = tf.model.predict(x_test)\n",
    "for x in range(0, 10):\n",
    "    random_index = random.randint(0, x_test.shape[0]-1)\n",
    "    print(\"index: \", random_index,\n",
    "          \"actual y: \", np.argmax(y_test[random_index]),\n",
    "          \"predicted y: \", np.argmax(y_predicted[random_index]))\n",
    "\n",
    "# evaluate test set\n",
    "evaluation = tf.model.evaluate(x_test, y_test)\n",
    "print('loss: ', evaluation[0])\n",
    "print('accuracy', evaluation[1])"
   ]
  },
  {
   "cell_type": "code",
   "execution_count": 8,
   "metadata": {},
   "outputs": [
    {
     "data": {
      "text/plain": [
       "array([[0, 0, 0, ..., 0, 0, 0],\n",
       "       [0, 0, 0, ..., 0, 0, 0],\n",
       "       [0, 0, 0, ..., 0, 0, 0],\n",
       "       ...,\n",
       "       [0, 0, 0, ..., 0, 0, 0],\n",
       "       [0, 0, 0, ..., 0, 0, 0],\n",
       "       [0, 0, 0, ..., 0, 0, 0]], dtype=uint8)"
      ]
     },
     "execution_count": 8,
     "metadata": {},
     "output_type": "execute_result"
    }
   ],
   "source": [
    "x_train"
   ]
  },
  {
   "cell_type": "code",
   "execution_count": 9,
   "metadata": {},
   "outputs": [
    {
     "data": {
      "text/plain": [
       "array([[0., 0., 0., ..., 0., 0., 0.],\n",
       "       [1., 0., 0., ..., 0., 0., 0.],\n",
       "       [0., 0., 0., ..., 0., 0., 0.],\n",
       "       ...,\n",
       "       [0., 0., 0., ..., 0., 0., 0.],\n",
       "       [0., 0., 0., ..., 0., 0., 0.],\n",
       "       [0., 0., 0., ..., 0., 1., 0.]], dtype=float32)"
      ]
     },
     "execution_count": 9,
     "metadata": {},
     "output_type": "execute_result"
    }
   ],
   "source": [
    "y_train"
   ]
  },
  {
   "cell_type": "code",
   "execution_count": 10,
   "metadata": {},
   "outputs": [
    {
     "data": {
      "text/plain": [
       "((60000, 784), (60000, 10))"
      ]
     },
     "execution_count": 10,
     "metadata": {},
     "output_type": "execute_result"
    }
   ],
   "source": [
    "x_train.shape, y_train.shape"
   ]
  },
  {
   "cell_type": "code",
   "execution_count": 13,
   "metadata": {},
   "outputs": [
    {
     "data": {
      "text/plain": [
       "(numpy.ndarray, numpy.ndarray)"
      ]
     },
     "execution_count": 13,
     "metadata": {},
     "output_type": "execute_result"
    }
   ],
   "source": [
    "type(x_train), type(y_train)"
   ]
  },
  {
   "cell_type": "code",
   "execution_count": 12,
   "metadata": {},
   "outputs": [
    {
     "name": "stdout",
     "output_type": "stream",
     "text": [
      "Model: \"sequential\"\n",
      "_________________________________________________________________\n",
      "Layer (type)                 Output Shape              Param #   \n",
      "=================================================================\n",
      "dense (Dense)                (None, 256)               200960    \n",
      "_________________________________________________________________\n",
      "dense_1 (Dense)              (None, 256)               65792     \n",
      "_________________________________________________________________\n",
      "dense_2 (Dense)              (None, 10)                2570      \n",
      "=================================================================\n",
      "Total params: 269,322\n",
      "Trainable params: 269,322\n",
      "Non-trainable params: 0\n",
      "_________________________________________________________________\n"
     ]
    }
   ],
   "source": [
    "tf.model.summary()"
   ]
  }
 ],
 "metadata": {
  "kernelspec": {
   "display_name": "Python 3",
   "language": "python",
   "name": "python3"
  },
  "language_info": {
   "codemirror_mode": {
    "name": "ipython",
    "version": 3
   },
   "file_extension": ".py",
   "mimetype": "text/x-python",
   "name": "python",
   "nbconvert_exporter": "python",
   "pygments_lexer": "ipython3",
   "version": "3.8.5"
  }
 },
 "nbformat": 4,
 "nbformat_minor": 4
}
