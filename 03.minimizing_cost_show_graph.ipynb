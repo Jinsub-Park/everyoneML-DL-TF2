{
 "cells": [
  {
   "cell_type": "code",
   "execution_count": 2,
   "metadata": {},
   "outputs": [],
   "source": [
    "import numpy as np\n",
    "import matplotlib.pyplot as plt\n",
    "import tensorflow as tf"
   ]
  },
  {
   "cell_type": "code",
   "execution_count": 3,
   "metadata": {},
   "outputs": [],
   "source": [
    "# 02와 동일함\n",
    "x_train = [1, 2, 3, 4]\n",
    "y_train = [0, -1, -2, -3]"
   ]
  },
  {
   "cell_type": "code",
   "execution_count": 4,
   "metadata": {},
   "outputs": [],
   "source": [
    "tf.model1 = tf.keras.Sequential()\n",
    "tf.model1.add(tf.keras.layers.Dense(units=1, input_dim=1))"
   ]
  },
  {
   "cell_type": "code",
   "execution_count": 16,
   "metadata": {},
   "outputs": [],
   "source": [
    "# the importance of lr(since lr is too small, it is not good data)\n",
    "sgd = tf.keras.optimizers.SGD(lr=0.1)\n",
    "tf.model1.compile(loss='mse', optimizer=sgd)"
   ]
  },
  {
   "cell_type": "code",
   "execution_count": 18,
   "metadata": {},
   "outputs": [
    {
     "name": "stdout",
     "output_type": "stream",
     "text": [
      "Model: \"sequential\"\n",
      "_________________________________________________________________\n",
      "Layer (type)                 Output Shape              Param #   \n",
      "=================================================================\n",
      "dense (Dense)                (None, 1)                 2         \n",
      "=================================================================\n",
      "Total params: 2\n",
      "Trainable params: 2\n",
      "Non-trainable params: 0\n",
      "_________________________________________________________________\n",
      "Epoch 1/100\n",
      "1/1 [==============================] - 0s 3ms/step - loss: 5.8545e-04\n",
      "Epoch 2/100\n",
      "1/1 [==============================] - 0s 3ms/step - loss: 5.5092e-04\n",
      "Epoch 3/100\n",
      "1/1 [==============================] - 0s 3ms/step - loss: 5.1843e-04\n",
      "Epoch 4/100\n",
      "1/1 [==============================] - 0s 3ms/step - loss: 4.8785e-04\n",
      "Epoch 5/100\n",
      "1/1 [==============================] - 0s 3ms/step - loss: 4.5908e-04\n",
      "Epoch 6/100\n",
      "1/1 [==============================] - 0s 3ms/step - loss: 4.3200e-04\n",
      "Epoch 7/100\n",
      "1/1 [==============================] - 0s 3ms/step - loss: 4.0652e-04\n",
      "Epoch 8/100\n",
      "1/1 [==============================] - 0s 4ms/step - loss: 3.8254e-04\n",
      "Epoch 9/100\n",
      "1/1 [==============================] - 0s 4ms/step - loss: 3.5998e-04\n",
      "Epoch 10/100\n",
      "1/1 [==============================] - 0s 4ms/step - loss: 3.3875e-04\n",
      "Epoch 11/100\n",
      "1/1 [==============================] - 0s 3ms/step - loss: 3.1877e-04\n",
      "Epoch 12/100\n",
      "1/1 [==============================] - 0s 3ms/step - loss: 2.9997e-04\n",
      "Epoch 13/100\n",
      "1/1 [==============================] - 0s 3ms/step - loss: 2.8227e-04\n",
      "Epoch 14/100\n",
      "1/1 [==============================] - 0s 4ms/step - loss: 2.6562e-04\n",
      "Epoch 15/100\n",
      "1/1 [==============================] - 0s 3ms/step - loss: 2.4996e-04\n",
      "Epoch 16/100\n",
      "1/1 [==============================] - 0s 4ms/step - loss: 2.3521e-04\n",
      "Epoch 17/100\n",
      "1/1 [==============================] - 0s 4ms/step - loss: 2.2134e-04\n",
      "Epoch 18/100\n",
      "1/1 [==============================] - 0s 4ms/step - loss: 2.0829e-04\n",
      "Epoch 19/100\n",
      "1/1 [==============================] - 0s 3ms/step - loss: 1.9600e-04\n",
      "Epoch 20/100\n",
      "1/1 [==============================] - 0s 3ms/step - loss: 1.8444e-04\n",
      "Epoch 21/100\n",
      "1/1 [==============================] - 0s 4ms/step - loss: 1.7356e-04\n",
      "Epoch 22/100\n",
      "1/1 [==============================] - 0s 4ms/step - loss: 1.6333e-04\n",
      "Epoch 23/100\n",
      "1/1 [==============================] - 0s 3ms/step - loss: 1.5369e-04\n",
      "Epoch 24/100\n",
      "1/1 [==============================] - 0s 3ms/step - loss: 1.4463e-04\n",
      "Epoch 25/100\n",
      "1/1 [==============================] - 0s 4ms/step - loss: 1.3610e-04\n",
      "Epoch 26/100\n",
      "1/1 [==============================] - 0s 3ms/step - loss: 1.2807e-04\n",
      "Epoch 27/100\n",
      "1/1 [==============================] - 0s 4ms/step - loss: 1.2051e-04\n",
      "Epoch 28/100\n",
      "1/1 [==============================] - 0s 4ms/step - loss: 1.1341e-04\n",
      "Epoch 29/100\n",
      "1/1 [==============================] - 0s 3ms/step - loss: 1.0672e-04\n",
      "Epoch 30/100\n",
      "1/1 [==============================] - 0s 3ms/step - loss: 1.0042e-04\n",
      "Epoch 31/100\n",
      "1/1 [==============================] - 0s 4ms/step - loss: 9.4500e-05\n",
      "Epoch 32/100\n",
      "1/1 [==============================] - 0s 4ms/step - loss: 8.8927e-05\n",
      "Epoch 33/100\n",
      "1/1 [==============================] - 0s 4ms/step - loss: 8.3682e-05\n",
      "Epoch 34/100\n",
      "1/1 [==============================] - 0s 3ms/step - loss: 7.8747e-05\n",
      "Epoch 35/100\n",
      "1/1 [==============================] - 0s 4ms/step - loss: 7.4101e-05\n",
      "Epoch 36/100\n",
      "1/1 [==============================] - 0s 4ms/step - loss: 6.9731e-05\n",
      "Epoch 37/100\n",
      "1/1 [==============================] - 0s 3ms/step - loss: 6.5618e-05\n",
      "Epoch 38/100\n",
      "1/1 [==============================] - 0s 3ms/step - loss: 6.1748e-05\n",
      "Epoch 39/100\n",
      "1/1 [==============================] - 0s 3ms/step - loss: 5.8106e-05\n",
      "Epoch 40/100\n",
      "1/1 [==============================] - 0s 3ms/step - loss: 5.4679e-05\n",
      "Epoch 41/100\n",
      "1/1 [==============================] - 0s 4ms/step - loss: 5.1454e-05\n",
      "Epoch 42/100\n",
      "1/1 [==============================] - 0s 3ms/step - loss: 4.8418e-05\n",
      "Epoch 43/100\n",
      "1/1 [==============================] - 0s 3ms/step - loss: 4.5563e-05\n",
      "Epoch 44/100\n",
      "1/1 [==============================] - 0s 4ms/step - loss: 4.2875e-05\n",
      "Epoch 45/100\n",
      "1/1 [==============================] - 0s 3ms/step - loss: 4.0346e-05\n",
      "Epoch 46/100\n",
      "1/1 [==============================] - 0s 3ms/step - loss: 3.7967e-05\n",
      "Epoch 47/100\n",
      "1/1 [==============================] - 0s 3ms/step - loss: 3.5727e-05\n",
      "Epoch 48/100\n",
      "1/1 [==============================] - 0s 4ms/step - loss: 3.3620e-05\n",
      "Epoch 49/100\n",
      "1/1 [==============================] - 0s 3ms/step - loss: 3.1637e-05\n",
      "Epoch 50/100\n",
      "1/1 [==============================] - 0s 3ms/step - loss: 2.9771e-05\n",
      "Epoch 51/100\n",
      "1/1 [==============================] - 0s 3ms/step - loss: 2.8015e-05\n",
      "Epoch 52/100\n",
      "1/1 [==============================] - 0s 3ms/step - loss: 2.6363e-05\n",
      "Epoch 53/100\n",
      "1/1 [==============================] - 0s 3ms/step - loss: 2.4808e-05\n",
      "Epoch 54/100\n",
      "1/1 [==============================] - 0s 3ms/step - loss: 2.3345e-05\n",
      "Epoch 55/100\n",
      "1/1 [==============================] - 0s 4ms/step - loss: 2.1968e-05\n",
      "Epoch 56/100\n",
      "1/1 [==============================] - 0s 3ms/step - loss: 2.0672e-05\n",
      "Epoch 57/100\n",
      "1/1 [==============================] - 0s 3ms/step - loss: 1.9453e-05\n",
      "Epoch 58/100\n",
      "1/1 [==============================] - 0s 3ms/step - loss: 1.8306e-05\n",
      "Epoch 59/100\n",
      "1/1 [==============================] - 0s 3ms/step - loss: 1.7226e-05\n",
      "Epoch 60/100\n",
      "1/1 [==============================] - 0s 3ms/step - loss: 1.6210e-05\n",
      "Epoch 61/100\n",
      "1/1 [==============================] - 0s 4ms/step - loss: 1.5254e-05\n",
      "Epoch 62/100\n",
      "1/1 [==============================] - 0s 3ms/step - loss: 1.4354e-05\n",
      "Epoch 63/100\n",
      "1/1 [==============================] - 0s 3ms/step - loss: 1.3507e-05\n",
      "Epoch 64/100\n",
      "1/1 [==============================] - 0s 3ms/step - loss: 1.2711e-05\n",
      "Epoch 65/100\n",
      "1/1 [==============================] - 0s 3ms/step - loss: 1.1961e-05\n",
      "Epoch 66/100\n",
      "1/1 [==============================] - 0s 3ms/step - loss: 1.1255e-05\n",
      "Epoch 67/100\n",
      "1/1 [==============================] - ETA: 0s - loss: 1.0592e-0 - 0s 4ms/step - loss: 1.0592e-05\n",
      "Epoch 68/100\n",
      "1/1 [==============================] - 0s 3ms/step - loss: 9.9670e-06\n",
      "Epoch 69/100\n",
      "1/1 [==============================] - 0s 3ms/step - loss: 9.3789e-06\n",
      "Epoch 70/100\n",
      "1/1 [==============================] - 0s 4ms/step - loss: 8.8259e-06\n",
      "Epoch 71/100\n",
      "1/1 [==============================] - 0s 3ms/step - loss: 8.3051e-06\n",
      "Epoch 72/100\n",
      "1/1 [==============================] - 0s 4ms/step - loss: 7.8152e-06\n",
      "Epoch 73/100\n",
      "1/1 [==============================] - 0s 3ms/step - loss: 7.3542e-06\n",
      "Epoch 74/100\n",
      "1/1 [==============================] - 0s 4ms/step - loss: 6.9204e-06\n",
      "Epoch 75/100\n",
      "1/1 [==============================] - 0s 3ms/step - loss: 6.5123e-06\n",
      "Epoch 76/100\n",
      "1/1 [==============================] - 0s 3ms/step - loss: 6.1282e-06\n",
      "Epoch 77/100\n",
      "1/1 [==============================] - 0s 4ms/step - loss: 5.7669e-06\n",
      "Epoch 78/100\n",
      "1/1 [==============================] - 0s 3ms/step - loss: 5.4265e-06\n",
      "Epoch 79/100\n",
      "1/1 [==============================] - 0s 3ms/step - loss: 5.1066e-06\n",
      "Epoch 80/100\n",
      "1/1 [==============================] - 0s 4ms/step - loss: 4.8054e-06\n",
      "Epoch 81/100\n",
      "1/1 [==============================] - 0s 3ms/step - loss: 4.5221e-06\n",
      "Epoch 82/100\n",
      "1/1 [==============================] - 0s 4ms/step - loss: 4.2553e-06\n",
      "Epoch 83/100\n",
      "1/1 [==============================] - 0s 3ms/step - loss: 4.0044e-06\n",
      "Epoch 84/100\n",
      "1/1 [==============================] - 0s 3ms/step - loss: 3.7682e-06\n",
      "Epoch 85/100\n",
      "1/1 [==============================] - 0s 3ms/step - loss: 3.5459e-06\n",
      "Epoch 86/100\n",
      "1/1 [==============================] - 0s 4ms/step - loss: 3.3367e-06\n",
      "Epoch 87/100\n",
      "1/1 [==============================] - 0s 3ms/step - loss: 3.1401e-06\n",
      "Epoch 88/100\n",
      "1/1 [==============================] - 0s 4ms/step - loss: 2.9548e-06\n",
      "Epoch 89/100\n",
      "1/1 [==============================] - 0s 3ms/step - loss: 2.7805e-06\n",
      "Epoch 90/100\n",
      "1/1 [==============================] - 0s 4ms/step - loss: 2.6166e-06\n",
      "Epoch 91/100\n",
      "1/1 [==============================] - 0s 4ms/step - loss: 2.4621e-06\n",
      "Epoch 92/100\n",
      "1/1 [==============================] - 0s 3ms/step - loss: 2.3170e-06\n",
      "Epoch 93/100\n"
     ]
    },
    {
     "name": "stdout",
     "output_type": "stream",
     "text": [
      "1/1 [==============================] - 0s 3ms/step - loss: 2.1803e-06\n",
      "Epoch 94/100\n",
      "1/1 [==============================] - 0s 3ms/step - loss: 2.0518e-06\n",
      "Epoch 95/100\n",
      "1/1 [==============================] - 0s 4ms/step - loss: 1.9307e-06\n",
      "Epoch 96/100\n",
      "1/1 [==============================] - 0s 3ms/step - loss: 1.8169e-06\n",
      "Epoch 97/100\n",
      "1/1 [==============================] - 0s 4ms/step - loss: 1.7096e-06\n",
      "Epoch 98/100\n",
      "1/1 [==============================] - 0s 3ms/step - loss: 1.6089e-06\n",
      "Epoch 99/100\n",
      "1/1 [==============================] - 0s 3ms/step - loss: 1.5140e-06\n",
      "Epoch 100/100\n",
      "1/1 [==============================] - 0s 4ms/step - loss: 1.4247e-06\n"
     ]
    }
   ],
   "source": [
    "tf.model1.summary()\n",
    "\n",
    "# fit() trains the model and returns history of train\n",
    "history = tf.model1.fit(x_train, y_train, epochs=100)"
   ]
  },
  {
   "cell_type": "code",
   "execution_count": 19,
   "metadata": {},
   "outputs": [
    {
     "name": "stdout",
     "output_type": "stream",
     "text": [
      "[[-3.9980154]\n",
      " [-2.9989786]]\n"
     ]
    }
   ],
   "source": [
    "y_predict = tf.model1.predict(np.array([5, 4]))\n",
    "print(y_predict)"
   ]
  },
  {
   "cell_type": "code",
   "execution_count": 24,
   "metadata": {},
   "outputs": [
    {
     "data": {
      "image/png": "[encoded data removed]",
      "text/plain": [
       "<Figure size 432x288 with 1 Axes>"
      ]
     },
     "metadata": {
      "needs_background": "light"
     },
     "output_type": "display_data"
    }
   ],
   "source": [
    "# Plot training & validation loss values\n",
    "plt.plot(history.history[\"loss\"])\n",
    "plt.axis([20, 120, 0, 0.0002])\n",
    "plt.title('Model loss')\n",
    "plt.ylabel('Loss')\n",
    "plt.xlabel('Epoch')\n",
    "plt.legend(['Train'], loc='best')\n",
    "plt.show()"
   ]
  },
  {
   "cell_type": "code",
   "execution_count": 25,
   "metadata": {},
   "outputs": [
    {
     "name": "stdout",
     "output_type": "stream",
     "text": [
      "[[-1.000906 ]\n",
      " [-2.9989786]]\n"
     ]
    }
   ],
   "source": [
    "y_predict = tf.model1.predict(np.array([2, 4]))\n",
    "print(y_predict)"
   ]
  },
  {
   "cell_type": "code",
   "execution_count": 32,
   "metadata": {},
   "outputs": [],
   "source": [
    "x_predict = np.arange(0, 1, 0.01)\n",
    "y_predict = tf.model1.predict(x_predict)"
   ]
  },
  {
   "cell_type": "code",
   "execution_count": 33,
   "metadata": {},
   "outputs": [
    {
     "data": {
      "text/plain": [
       "[<matplotlib.lines.Line2D at 0x2153577eee0>]"
      ]
     },
     "execution_count": 33,
     "metadata": {},
     "output_type": "execute_result"
    },
    {
     "data": {
      "image/png": "[encoded data removed]",
      "text/plain": [
       "<Figure size 432x288 with 1 Axes>"
      ]
     },
     "metadata": {
      "needs_background": "light"
     },
     "output_type": "display_data"
    }
   ],
   "source": [
    "plt.plot(x_predict, y_predict)"
   ]
  }
 ],
 "metadata": {
  "kernelspec": {
   "display_name": "Python 3",
   "language": "python",
   "name": "python3"
  },
  "language_info": {
   "codemirror_mode": {
    "name": "ipython",
    "version": 3
   },
   "file_extension": ".py",
   "mimetype": "text/x-python",
   "name": "python",
   "nbconvert_exporter": "python",
   "pygments_lexer": "ipython3",
   "version": "3.8.5"
  }
 },
 "nbformat": 4,
 "nbformat_minor": 4
}
