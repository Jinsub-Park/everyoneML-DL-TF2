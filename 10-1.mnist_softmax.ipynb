{
 "cells": [
  {
   "cell_type": "code",
   "execution_count": 1,
   "metadata": {},
   "outputs": [],
   "source": [
    "import tensorflow as tf\n",
    "import numpy as np"
   ]
  },
  {
   "cell_type": "code",
   "execution_count": 2,
   "metadata": {},
   "outputs": [],
   "source": [
    "learning_rate = 0.001\n",
    "batch_size = 100\n",
    "training_epochs = 25\n",
    "nb_classes = 10"
   ]
  },
  {
   "cell_type": "code",
   "execution_count": 3,
   "metadata": {},
   "outputs": [],
   "source": [
    "mnist = tf.keras.datasets.mnist"
   ]
  },
  {
   "cell_type": "code",
   "execution_count": 4,
   "metadata": {},
   "outputs": [],
   "source": [
    "(x_train, y_train), (x_test, y_test) = mnist.load_data()"
   ]
  },
  {
   "cell_type": "code",
   "execution_count": 5,
   "metadata": {},
   "outputs": [
    {
     "name": "stdout",
     "output_type": "stream",
     "text": [
      "(60000, 28, 28)\n",
      "(10000, 28, 28)\n"
     ]
    }
   ],
   "source": [
    "x_train, x_test = x_train / 255.0, x_test / 255.0  # x_train.max() = 255\n",
    "# change data shape\n",
    "print(x_train.shape)  # (60000, 28, 28)\n",
    "print(x_test.shape)\n",
    "x_train = x_train.reshape(x_train.shape[0], x_train.shape[1] * x_train.shape[2])\n",
    "x_test = x_test.reshape(x_test.shape[0], x_test.shape[1] * x_test.shape[2])"
   ]
  },
  {
   "cell_type": "code",
   "execution_count": 6,
   "metadata": {},
   "outputs": [],
   "source": [
    "y_train = tf.keras.utils.to_categorical(y_train, 10)\n",
    "y_test = tf.keras.utils.to_categorical(y_test, 10)"
   ]
  },
  {
   "cell_type": "code",
   "execution_count": 7,
   "metadata": {},
   "outputs": [
    {
     "name": "stdout",
     "output_type": "stream",
     "text": [
      "Model: \"sequential\"\n",
      "_________________________________________________________________\n",
      "Layer (type)                 Output Shape              Param #   \n",
      "=================================================================\n",
      "dense (Dense)                (None, 10)                7850      \n",
      "=================================================================\n",
      "Total params: 7,850\n",
      "Trainable params: 7,850\n",
      "Non-trainable params: 0\n",
      "_________________________________________________________________\n"
     ]
    }
   ],
   "source": [
    "model = tf.keras.Sequential()\n",
    "model.add(tf.keras.layers.Dense(units=10, input_dim = 28 * 28, activation='softmax'))\n",
    "model.compile(loss='categorical_crossentropy', optimizer=tf.keras.optimizers.Adam(learning_rate), metrics=[tf.keras.metrics.Accuracy(), 'acc'])\n",
    "model.summary()"
   ]
  },
  {
   "cell_type": "code",
   "execution_count": 8,
   "metadata": {},
   "outputs": [
    {
     "name": "stdout",
     "output_type": "stream",
     "text": [
      "Epoch 1/25\n",
      "600/600 [==============================] - 4s 4ms/step - loss: 0.9873 - accuracy: 0.0000e+00 - acc: 0.7486\n",
      "Epoch 2/25\n",
      "600/600 [==============================] - 2s 3ms/step - loss: 0.3579 - accuracy: 0.0000e+00 - acc: 0.9037\n",
      "Epoch 3/25\n",
      "600/600 [==============================] - 2s 3ms/step - loss: 0.3161 - accuracy: 0.0000e+00 - acc: 0.9121\n",
      "Epoch 4/25\n",
      "600/600 [==============================] - 2s 3ms/step - loss: 0.2974 - accuracy: 0.0000e+00 - acc: 0.9178\n",
      "Epoch 5/25\n",
      "600/600 [==============================] - 2s 3ms/step - loss: 0.2842 - accuracy: 0.0000e+00 - acc: 0.9205\n",
      "Epoch 6/25\n",
      "600/600 [==============================] - 2s 3ms/step - loss: 0.2737 - accuracy: 0.0000e+00 - acc: 0.9227\n",
      "Epoch 7/25\n",
      "600/600 [==============================] - 2s 3ms/step - loss: 0.2691 - accuracy: 0.0000e+00 - acc: 0.9232\n",
      "Epoch 8/25\n",
      "600/600 [==============================] - 2s 3ms/step - loss: 0.2707 - accuracy: 4.3766e-06 - acc: 0.9245\n",
      "Epoch 9/25\n",
      "600/600 [==============================] - 2s 3ms/step - loss: 0.2662 - accuracy: 2.6279e-06 - acc: 0.9262\n",
      "Epoch 10/25\n",
      "600/600 [==============================] - 2s 3ms/step - loss: 0.2620 - accuracy: 8.7891e-06 - acc: 0.9274\n",
      "Epoch 11/25\n",
      "600/600 [==============================] - 2s 3ms/step - loss: 0.2583 - accuracy: 4.9707e-06 - acc: 0.9289\n",
      "Epoch 12/25\n",
      "600/600 [==============================] - 2s 3ms/step - loss: 0.2574 - accuracy: 1.0765e-05 - acc: 0.9290\n",
      "Epoch 13/25\n",
      "600/600 [==============================] - 2s 3ms/step - loss: 0.2528 - accuracy: 1.5470e-05 - acc: 0.9309\n",
      "Epoch 14/25\n",
      "600/600 [==============================] - 2s 3ms/step - loss: 0.2512 - accuracy: 2.9989e-05 - acc: 0.9303\n",
      "Epoch 15/25\n",
      "600/600 [==============================] - 2s 3ms/step - loss: 0.2486 - accuracy: 3.2773e-05 - acc: 0.9312\n",
      "Epoch 16/25\n",
      "600/600 [==============================] - 2s 3ms/step - loss: 0.2472 - accuracy: 2.9618e-05 - acc: 0.9315\n",
      "Epoch 17/25\n",
      "600/600 [==============================] - 2s 3ms/step - loss: 0.2426 - accuracy: 2.2859e-05 - acc: 0.9333\n",
      "Epoch 18/25\n",
      "600/600 [==============================] - 2s 3ms/step - loss: 0.2393 - accuracy: 6.1546e-05 - acc: 0.9341\n",
      "Epoch 19/25\n",
      "600/600 [==============================] - 2s 3ms/step - loss: 0.2432 - accuracy: 4.1023e-05 - acc: 0.9323\n",
      "Epoch 20/25\n",
      "600/600 [==============================] - 2s 3ms/step - loss: 0.2371 - accuracy: 2.6916e-05 - acc: 0.9346\n",
      "Epoch 21/25\n",
      "600/600 [==============================] - 2s 3ms/step - loss: 0.2414 - accuracy: 5.9113e-05 - acc: 0.9329\n",
      "Epoch 22/25\n",
      "600/600 [==============================] - 2s 3ms/step - loss: 0.2413 - accuracy: 4.9286e-05 - acc: 0.9332\n",
      "Epoch 23/25\n",
      "600/600 [==============================] - 2s 3ms/step - loss: 0.2440 - accuracy: 6.4391e-05 - acc: 0.9339\n",
      "Epoch 24/25\n",
      "600/600 [==============================] - 2s 3ms/step - loss: 0.2414 - accuracy: 5.5290e-05 - acc: 0.9336\n",
      "Epoch 25/25\n",
      "600/600 [==============================] - 2s 3ms/step - loss: 0.2406 - accuracy: 5.8584e-05 - acc: 0.9340\n"
     ]
    }
   ],
   "source": [
    "history = model.fit(x_train, y_train, batch_size=batch_size, epochs=training_epochs)"
   ]
  },
  {
   "cell_type": "code",
   "execution_count": 9,
   "metadata": {},
   "outputs": [
    {
     "name": "stdout",
     "output_type": "stream",
     "text": [
      "Prediction: \n",
      " [7 2 1 ... 4 5 6]\n",
      "313/313 [==============================] - 1s 3ms/step - loss: 0.2643 - accuracy: 2.0000e-05 - acc: 0.9269\n",
      "Accuracy:  1.9999999494757503e-05\n"
     ]
    }
   ],
   "source": [
    "predictions = model.predict(x_test)\n",
    "print('Prediction: \\n', np.argmax(predictions, axis=1))\n",
    "x_train\n",
    "score = model.evaluate(x_test, y_test)\n",
    "print('Accuracy: ', score[1])"
   ]
  },
  {
   "cell_type": "code",
   "execution_count": 10,
   "metadata": {},
   "outputs": [
    {
     "data": {
      "text/plain": [
       "0.9269"
      ]
     },
     "execution_count": 10,
     "metadata": {},
     "output_type": "execute_result"
    }
   ],
   "source": [
    "m = tf.keras.metrics.Accuracy()\n",
    "m.update_state(np.argmax(predictions, axis=1), y_test.argmax(axis=1))\n",
    "m.result().numpy()"
   ]
  },
  {
   "cell_type": "code",
   "execution_count": null,
   "metadata": {},
   "outputs": [],
   "source": []
  },
  {
   "cell_type": "code",
   "execution_count": 19,
   "metadata": {},
   "outputs": [],
   "source": [
    "image = x_train[0].reshape(28, 28)"
   ]
  },
  {
   "cell_type": "code",
   "execution_count": 20,
   "metadata": {},
   "outputs": [
    {
     "data": {
      "image/png": "[encoded data removed]",
      "text/plain": [
       "<Figure size 432x288 with 1 Axes>"
      ]
     },
     "metadata": {
      "needs_background": "light"
     },
     "output_type": "display_data"
    }
   ],
   "source": [
    "import matplotlib.pyplot as plt\n",
    "\n",
    "plt.figure(55)\n",
    "plt.imshow(image)\n",
    "plt.show()"
   ]
  },
  {
   "cell_type": "code",
   "execution_count": 59,
   "metadata": {},
   "outputs": [],
   "source": [
    "kernel1 = np.array([[1, 2, 1],\n",
    "                    [0, 0, 0],\n",
    "                    [-1, -2, -1]])"
   ]
  },
  {
   "cell_type": "code",
   "execution_count": 60,
   "metadata": {},
   "outputs": [],
   "source": [
    "image_pad = np.zeros([30, 30])\n",
    "for i in range(28):\n",
    "    for j in range(28):\n",
    "        image_pad[1+i][1+j] = image[i][j]"
   ]
  },
  {
   "cell_type": "code",
   "execution_count": 61,
   "metadata": {},
   "outputs": [
    {
     "data": {
      "image/png": "[encoded data removed]",
      "text/plain": [
       "<Figure size 432x288 with 1 Axes>"
      ]
     },
     "metadata": {
      "needs_background": "light"
     },
     "output_type": "display_data"
    }
   ],
   "source": [
    "plt.figure(55)\n",
    "plt.imshow(image_pad, cmap='Greys')\n",
    "plt.show()"
   ]
  },
  {
   "cell_type": "code",
   "execution_count": 62,
   "metadata": {},
   "outputs": [
    {
     "data": {
      "text/plain": [
       "array([[ 0.00000000e+00,  0.00000000e+00,  0.00000000e+00,\n",
       "         0.00000000e+00,  0.00000000e+00,  0.00000000e+00,\n",
       "         0.00000000e+00,  0.00000000e+00,  0.00000000e+00,\n",
       "         0.00000000e+00,  0.00000000e+00,  0.00000000e+00,\n",
       "         0.00000000e+00,  0.00000000e+00,  0.00000000e+00,\n",
       "         0.00000000e+00,  0.00000000e+00,  0.00000000e+00,\n",
       "         0.00000000e+00,  0.00000000e+00,  0.00000000e+00,\n",
       "         0.00000000e+00,  0.00000000e+00,  0.00000000e+00,\n",
       "         0.00000000e+00,  0.00000000e+00,  0.00000000e+00,\n",
       "         0.00000000e+00],\n",
       "       [ 0.00000000e+00,  0.00000000e+00,  0.00000000e+00,\n",
       "         0.00000000e+00,  0.00000000e+00,  0.00000000e+00,\n",
       "         0.00000000e+00,  0.00000000e+00,  0.00000000e+00,\n",
       "         0.00000000e+00,  0.00000000e+00,  0.00000000e+00,\n",
       "         0.00000000e+00,  0.00000000e+00,  0.00000000e+00,\n",
       "         0.00000000e+00,  0.00000000e+00,  0.00000000e+00,\n",
       "         0.00000000e+00,  0.00000000e+00,  0.00000000e+00,\n",
       "         0.00000000e+00,  0.00000000e+00,  0.00000000e+00,\n",
       "         0.00000000e+00,  0.00000000e+00,  0.00000000e+00,\n",
       "         0.00000000e+00],\n",
       "       [ 0.00000000e+00,  0.00000000e+00,  0.00000000e+00,\n",
       "         0.00000000e+00,  0.00000000e+00,  0.00000000e+00,\n",
       "         0.00000000e+00,  0.00000000e+00,  0.00000000e+00,\n",
       "         0.00000000e+00,  0.00000000e+00,  0.00000000e+00,\n",
       "         0.00000000e+00,  0.00000000e+00,  0.00000000e+00,\n",
       "         0.00000000e+00,  0.00000000e+00,  0.00000000e+00,\n",
       "         0.00000000e+00,  0.00000000e+00,  0.00000000e+00,\n",
       "         0.00000000e+00,  0.00000000e+00,  0.00000000e+00,\n",
       "         0.00000000e+00,  0.00000000e+00,  0.00000000e+00,\n",
       "         0.00000000e+00],\n",
       "       [ 0.00000000e+00,  0.00000000e+00,  0.00000000e+00,\n",
       "         0.00000000e+00,  0.00000000e+00,  0.00000000e+00,\n",
       "         0.00000000e+00,  0.00000000e+00,  0.00000000e+00,\n",
       "         0.00000000e+00,  0.00000000e+00,  0.00000000e+00,\n",
       "         0.00000000e+00,  0.00000000e+00,  0.00000000e+00,\n",
       "         0.00000000e+00,  0.00000000e+00,  0.00000000e+00,\n",
       "         0.00000000e+00,  0.00000000e+00,  0.00000000e+00,\n",
       "         0.00000000e+00,  0.00000000e+00,  0.00000000e+00,\n",
       "         0.00000000e+00,  0.00000000e+00,  0.00000000e+00,\n",
       "         0.00000000e+00],\n",
       "       [ 0.00000000e+00,  0.00000000e+00,  0.00000000e+00,\n",
       "         0.00000000e+00,  0.00000000e+00,  0.00000000e+00,\n",
       "         0.00000000e+00,  0.00000000e+00,  0.00000000e+00,\n",
       "         0.00000000e+00,  0.00000000e+00, -1.17647059e-02,\n",
       "        -9.41176471e-02, -2.23529412e-01, -2.82352941e-01,\n",
       "        -7.05882353e-01, -1.59215686e+00, -2.24705882e+00,\n",
       "        -2.00784314e+00, -1.54117647e+00, -2.40392157e+00,\n",
       "        -3.61960784e+00, -3.43529412e+00, -1.96470588e+00,\n",
       "        -4.98039216e-01,  0.00000000e+00,  0.00000000e+00,\n",
       "         0.00000000e+00],\n",
       "       [ 0.00000000e+00,  0.00000000e+00,  0.00000000e+00,\n",
       "         0.00000000e+00,  0.00000000e+00,  0.00000000e+00,\n",
       "         0.00000000e+00, -1.17647059e-01, -3.76470588e-01,\n",
       "        -7.68627451e-01, -1.48235294e+00, -2.24313725e+00,\n",
       "        -2.92941176e+00, -3.64313725e+00, -3.96862745e+00,\n",
       "        -3.96862745e+00, -3.96862745e+00, -3.85882353e+00,\n",
       "        -3.43137255e+00, -3.22352941e+00, -3.60784314e+00,\n",
       "        -3.65490196e+00, -2.72941176e+00, -1.26666667e+00,\n",
       "        -2.50980392e-01,  0.00000000e+00,  0.00000000e+00,\n",
       "         0.00000000e+00],\n",
       "       [ 0.00000000e+00,  0.00000000e+00,  0.00000000e+00,\n",
       "         0.00000000e+00,  0.00000000e+00,  0.00000000e+00,\n",
       "        -1.92156863e-01, -1.31764706e+00, -3.05098039e+00,\n",
       "        -3.90980392e+00, -3.96862745e+00, -3.95686275e+00,\n",
       "        -3.87450980e+00, -3.74509804e+00, -3.68627451e+00,\n",
       "        -3.26274510e+00, -2.36862745e+00, -1.07843137e+00,\n",
       "        -2.74509804e-02,  2.11764706e-01,  1.21960784e+00,\n",
       "         2.70588235e+00,  2.90980392e+00,  1.81176471e+00,\n",
       "         4.98039216e-01,  0.00000000e+00,  0.00000000e+00,\n",
       "         0.00000000e+00],\n",
       "       [ 0.00000000e+00,  0.00000000e+00,  0.00000000e+00,\n",
       "         0.00000000e+00,  0.00000000e+00,  0.00000000e+00,\n",
       "        -7.05882353e-02, -8.82352941e-01, -2.40392157e+00,\n",
       "        -3.06666667e+00, -2.48627451e+00, -1.72549020e+00,\n",
       "        -1.03921569e+00, -1.09803922e-01,  7.09803922e-01,\n",
       "         7.96078431e-01,  3.72549020e-01,  1.00000000e+00,\n",
       "         2.48627451e+00,  3.22352941e+00,  3.60784314e+00,\n",
       "         3.65490196e+00,  2.72941176e+00,  1.26666667e+00,\n",
       "         2.50980392e-01,  0.00000000e+00,  0.00000000e+00,\n",
       "         0.00000000e+00],\n",
       "       [ 0.00000000e+00,  0.00000000e+00,  0.00000000e+00,\n",
       "         0.00000000e+00,  0.00000000e+00,  0.00000000e+00,\n",
       "         1.92156863e-01,  1.00392157e+00,  1.81176471e+00,\n",
       "         1.95294118e+00,  1.52549020e+00,  5.72549020e-01,\n",
       "         1.88235294e-01,  1.32549020e+00,  3.07843137e+00,\n",
       "         3.75686275e+00,  3.01960784e+00,  1.94901961e+00,\n",
       "         1.43137255e+00,  1.32941176e+00,  1.18431373e+00,\n",
       "         9.13725490e-01,  5.25490196e-01,  1.52941176e-01,\n",
       "         0.00000000e+00,  0.00000000e+00,  0.00000000e+00,\n",
       "         0.00000000e+00],\n",
       "       [ 0.00000000e+00,  0.00000000e+00,  0.00000000e+00,\n",
       "         0.00000000e+00,  0.00000000e+00,  0.00000000e+00,\n",
       "         7.05882353e-02,  1.00000000e+00,  2.72549020e+00,\n",
       "         3.72156863e+00,  3.30196078e+00,  1.76470588e+00,\n",
       "         1.02745098e+00,  2.05490196e+00,  2.90588235e+00,\n",
       "         3.17254902e+00,  3.59607843e+00,  2.85882353e+00,\n",
       "         9.45098039e-01,  0.00000000e+00,  0.00000000e+00,\n",
       "         0.00000000e+00,  0.00000000e+00,  0.00000000e+00,\n",
       "         0.00000000e+00,  0.00000000e+00,  0.00000000e+00,\n",
       "         0.00000000e+00],\n",
       "       [ 0.00000000e+00,  0.00000000e+00,  0.00000000e+00,\n",
       "         0.00000000e+00,  0.00000000e+00,  0.00000000e+00,\n",
       "         0.00000000e+00,  3.13725490e-01,  1.23921569e+00,\n",
       "         1.95686275e+00,  1.89803922e+00,  1.31372549e+00,\n",
       "         5.05882353e-01,  1.52941176e-01,  1.29411765e-01,\n",
       "         2.03921569e-01,  9.41176471e-01,  1.37647059e+00,\n",
       "         6.03921569e-01,  0.00000000e+00,  0.00000000e+00,\n",
       "         0.00000000e+00,  0.00000000e+00,  0.00000000e+00,\n",
       "         0.00000000e+00,  0.00000000e+00,  0.00000000e+00,\n",
       "         0.00000000e+00],\n",
       "       [ 0.00000000e+00,  0.00000000e+00,  0.00000000e+00,\n",
       "         0.00000000e+00,  0.00000000e+00,  0.00000000e+00,\n",
       "         0.00000000e+00,  0.00000000e+00,  5.49019608e-02,\n",
       "         1.13725490e-01,  6.23529412e-01,  1.37254902e+00,\n",
       "         4.15686275e-01, -1.30588235e+00, -1.18823529e+00,\n",
       "        -2.74509804e-01,  0.00000000e+00,  0.00000000e+00,\n",
       "         0.00000000e+00,  0.00000000e+00,  0.00000000e+00,\n",
       "         0.00000000e+00,  0.00000000e+00,  0.00000000e+00,\n",
       "         0.00000000e+00,  0.00000000e+00,  0.00000000e+00,\n",
       "         0.00000000e+00],\n",
       "       [ 0.00000000e+00,  0.00000000e+00,  0.00000000e+00,\n",
       "         0.00000000e+00,  0.00000000e+00,  0.00000000e+00,\n",
       "         0.00000000e+00,  0.00000000e+00,  0.00000000e+00,\n",
       "         0.00000000e+00,  5.45098039e-01,  1.94509804e+00,\n",
       "         2.05490196e+00, -4.19607843e-01, -2.57647059e+00,\n",
       "        -2.55294118e+00, -1.47843137e+00, -4.31372549e-01,\n",
       "        -3.92156863e-03,  0.00000000e+00,  0.00000000e+00,\n",
       "         0.00000000e+00,  0.00000000e+00,  0.00000000e+00,\n",
       "         0.00000000e+00,  0.00000000e+00,  0.00000000e+00,\n",
       "         0.00000000e+00],\n",
       "       [ 0.00000000e+00,  0.00000000e+00,  0.00000000e+00,\n",
       "         0.00000000e+00,  0.00000000e+00,  0.00000000e+00,\n",
       "         0.00000000e+00,  0.00000000e+00,  0.00000000e+00,\n",
       "         0.00000000e+00,  4.31372549e-02,  8.31372549e-01,\n",
       "         2.20784314e+00,  1.42745098e+00, -1.65098039e+00,\n",
       "        -3.64313725e+00, -3.44313725e+00, -2.02352941e+00,\n",
       "        -6.62745098e-01, -9.80392157e-02,  0.00000000e+00,\n",
       "         0.00000000e+00,  0.00000000e+00,  0.00000000e+00,\n",
       "         0.00000000e+00,  0.00000000e+00,  0.00000000e+00,\n",
       "         0.00000000e+00],\n",
       "       [ 0.00000000e+00,  0.00000000e+00,  0.00000000e+00,\n",
       "         0.00000000e+00,  0.00000000e+00,  0.00000000e+00,\n",
       "         0.00000000e+00,  0.00000000e+00,  0.00000000e+00,\n",
       "         0.00000000e+00,  0.00000000e+00,  1.37254902e-01,\n",
       "         1.21960784e+00,  2.73333333e+00,  2.25490196e+00,\n",
       "        -6.66666667e-02, -2.22745098e+00, -3.13333333e+00,\n",
       "        -2.27058824e+00, -8.00000000e-01, -1.05882353e-01,\n",
       "         0.00000000e+00,  0.00000000e+00,  0.00000000e+00,\n",
       "         0.00000000e+00,  0.00000000e+00,  0.00000000e+00,\n",
       "         0.00000000e+00],\n",
       "       [ 0.00000000e+00,  0.00000000e+00,  0.00000000e+00,\n",
       "         0.00000000e+00,  0.00000000e+00,  0.00000000e+00,\n",
       "         0.00000000e+00,  0.00000000e+00,  0.00000000e+00,\n",
       "         0.00000000e+00,  0.00000000e+00,  0.00000000e+00,\n",
       "         3.17647059e-01,  1.57647059e+00,  3.12941176e+00,\n",
       "         3.42745098e+00,  1.66274510e+00, -1.30980392e+00,\n",
       "        -3.04313725e+00, -2.36078431e+00, -7.33333333e-01,\n",
       "         0.00000000e+00,  0.00000000e+00,  0.00000000e+00,\n",
       "         0.00000000e+00,  0.00000000e+00,  0.00000000e+00,\n",
       "         0.00000000e+00],\n",
       "       [ 0.00000000e+00,  0.00000000e+00,  0.00000000e+00,\n",
       "         0.00000000e+00,  0.00000000e+00,  0.00000000e+00,\n",
       "         0.00000000e+00,  0.00000000e+00,  0.00000000e+00,\n",
       "         0.00000000e+00,  0.00000000e+00,  0.00000000e+00,\n",
       "         0.00000000e+00,  1.76470588e-01,  1.08235294e+00,\n",
       "         2.62745098e+00,  2.72941176e+00,  6.19607843e-01,\n",
       "        -1.66274510e+00, -2.39607843e+00, -1.37254902e+00,\n",
       "        -2.50980392e-01,  0.00000000e+00,  0.00000000e+00,\n",
       "         0.00000000e+00,  0.00000000e+00,  0.00000000e+00,\n",
       "         0.00000000e+00],\n",
       "       [ 0.00000000e+00,  0.00000000e+00,  0.00000000e+00,\n",
       "         0.00000000e+00,  0.00000000e+00,  0.00000000e+00,\n",
       "         0.00000000e+00,  0.00000000e+00,  0.00000000e+00,\n",
       "         0.00000000e+00,  0.00000000e+00,  0.00000000e+00,\n",
       "         0.00000000e+00, -1.80392157e-01, -8.07843137e-01,\n",
       "        -1.42745098e+00, -1.15686275e+00, -3.60784314e-01,\n",
       "        -8.23529412e-02, -1.64705882e-01, -9.41176471e-02,\n",
       "        -7.84313725e-03,  0.00000000e+00,  0.00000000e+00,\n",
       "         0.00000000e+00,  0.00000000e+00,  0.00000000e+00,\n",
       "         0.00000000e+00],\n",
       "       [ 0.00000000e+00,  0.00000000e+00,  0.00000000e+00,\n",
       "         0.00000000e+00,  0.00000000e+00,  0.00000000e+00,\n",
       "         0.00000000e+00,  0.00000000e+00,  0.00000000e+00,\n",
       "         0.00000000e+00,  0.00000000e+00, -1.52941176e-01,\n",
       "        -8.86274510e-01, -2.21176471e+00, -3.36862745e+00,\n",
       "        -3.87450980e+00, -2.99215686e+00, -1.01176471e+00,\n",
       "         2.70588235e-01,  7.88235294e-01,  7.64705882e-01,\n",
       "         2.50980392e-01,  0.00000000e+00,  0.00000000e+00,\n",
       "         0.00000000e+00,  0.00000000e+00,  0.00000000e+00,\n",
       "         0.00000000e+00],\n",
       "       [ 0.00000000e+00,  0.00000000e+00,  0.00000000e+00,\n",
       "         0.00000000e+00,  0.00000000e+00,  0.00000000e+00,\n",
       "         0.00000000e+00,  0.00000000e+00,  0.00000000e+00,\n",
       "        -9.41176471e-02, -6.35294118e-01, -1.85490196e+00,\n",
       "        -3.17254902e+00, -3.66274510e+00, -3.09803922e+00,\n",
       "        -2.05098039e+00, -8.27450980e-01,  8.19607843e-01,\n",
       "         2.38823529e+00,  2.31764706e+00,  8.27450980e-01,\n",
       "         7.84313725e-03,  0.00000000e+00,  0.00000000e+00,\n",
       "         0.00000000e+00,  0.00000000e+00,  0.00000000e+00,\n",
       "         0.00000000e+00],\n",
       "       [ 0.00000000e+00,  0.00000000e+00,  0.00000000e+00,\n",
       "         0.00000000e+00,  0.00000000e+00,  0.00000000e+00,\n",
       "         0.00000000e+00, -9.01960784e-02, -4.39215686e-01,\n",
       "        -1.44313725e+00, -2.92156863e+00, -3.65882353e+00,\n",
       "        -3.08235294e+00, -1.75686275e+00, -3.84313725e-01,\n",
       "         1.01176471e+00,  2.54901961e+00,  3.62352941e+00,\n",
       "         3.65882353e+00,  2.40784314e+00,  7.13725490e-01,\n",
       "         0.00000000e+00,  0.00000000e+00,  0.00000000e+00,\n",
       "         0.00000000e+00,  0.00000000e+00,  0.00000000e+00,\n",
       "         0.00000000e+00],\n",
       "       [ 0.00000000e+00,  0.00000000e+00,  0.00000000e+00,\n",
       "         0.00000000e+00,  0.00000000e+00, -7.05882353e-02,\n",
       "        -8.11764706e-01, -2.27058824e+00, -3.38039216e+00,\n",
       "        -3.74117647e+00, -3.33333333e+00, -2.11372549e+00,\n",
       "        -5.68627451e-01,  1.00784314e+00,  2.54117647e+00,\n",
       "         3.58431373e+00,  3.72941176e+00,  2.87450980e+00,\n",
       "         1.40000000e+00,  3.05882353e-01,  0.00000000e+00,\n",
       "         0.00000000e+00,  0.00000000e+00,  0.00000000e+00,\n",
       "         0.00000000e+00,  0.00000000e+00,  0.00000000e+00,\n",
       "         0.00000000e+00],\n",
       "       [ 0.00000000e+00,  0.00000000e+00,  0.00000000e+00,\n",
       "        -2.15686275e-01, -1.10588235e+00, -2.45098039e+00,\n",
       "        -3.43921569e+00, -3.77254902e+00, -3.52941176e+00,\n",
       "        -2.52549020e+00, -1.01176471e+00,  3.84313725e-01,\n",
       "         1.92549020e+00,  3.36078431e+00,  3.70980392e+00,\n",
       "         2.86274510e+00,  1.41960784e+00,  3.33333333e-01,\n",
       "         7.84313725e-03,  0.00000000e+00,  0.00000000e+00,\n",
       "         0.00000000e+00,  0.00000000e+00,  0.00000000e+00,\n",
       "         0.00000000e+00,  0.00000000e+00,  0.00000000e+00,\n",
       "         0.00000000e+00],\n",
       "       [ 0.00000000e+00,  0.00000000e+00,  0.00000000e+00,\n",
       "        -5.33333333e-01, -2.05882353e+00, -3.43921569e+00,\n",
       "        -3.15686275e+00, -1.53725490e+00,  1.96078431e-01,\n",
       "         1.42745098e+00,  2.34117647e+00,  3.32549020e+00,\n",
       "         3.67843137e+00,  2.83529412e+00,  1.42745098e+00,\n",
       "         3.84313725e-01,  3.52941176e-02,  0.00000000e+00,\n",
       "         0.00000000e+00,  0.00000000e+00,  0.00000000e+00,\n",
       "         0.00000000e+00,  0.00000000e+00,  0.00000000e+00,\n",
       "         0.00000000e+00,  0.00000000e+00,  0.00000000e+00,\n",
       "         0.00000000e+00],\n",
       "       [ 0.00000000e+00,  0.00000000e+00,  0.00000000e+00,\n",
       "         2.15686275e-01,  1.10588235e+00,  2.45098039e+00,\n",
       "         3.43921569e+00,  3.86274510e+00,  3.96862745e+00,\n",
       "         3.96862745e+00,  3.93333333e+00,  3.42745098e+00,\n",
       "         2.04313725e+00,  6.07843137e-01,  4.31372549e-02,\n",
       "         0.00000000e+00,  0.00000000e+00,  0.00000000e+00,\n",
       "         0.00000000e+00,  0.00000000e+00,  0.00000000e+00,\n",
       "         0.00000000e+00,  0.00000000e+00,  0.00000000e+00,\n",
       "         0.00000000e+00,  0.00000000e+00,  0.00000000e+00,\n",
       "         0.00000000e+00],\n",
       "       [ 0.00000000e+00,  0.00000000e+00,  0.00000000e+00,\n",
       "         5.33333333e-01,  2.05882353e+00,  3.50980392e+00,\n",
       "         3.96862745e+00,  3.80784314e+00,  3.18431373e+00,\n",
       "         2.40784314e+00,  1.62745098e+00,  6.43137255e-01,\n",
       "         6.27450980e-02,  0.00000000e+00,  0.00000000e+00,\n",
       "         0.00000000e+00,  0.00000000e+00,  0.00000000e+00,\n",
       "         0.00000000e+00,  0.00000000e+00,  0.00000000e+00,\n",
       "         0.00000000e+00,  0.00000000e+00,  0.00000000e+00,\n",
       "         0.00000000e+00,  0.00000000e+00,  0.00000000e+00,\n",
       "         0.00000000e+00],\n",
       "       [ 0.00000000e+00,  0.00000000e+00,  0.00000000e+00,\n",
       "         0.00000000e+00,  0.00000000e+00,  0.00000000e+00,\n",
       "         0.00000000e+00,  0.00000000e+00,  0.00000000e+00,\n",
       "         0.00000000e+00,  0.00000000e+00,  0.00000000e+00,\n",
       "         0.00000000e+00,  0.00000000e+00,  0.00000000e+00,\n",
       "         0.00000000e+00,  0.00000000e+00,  0.00000000e+00,\n",
       "         0.00000000e+00,  0.00000000e+00,  0.00000000e+00,\n",
       "         0.00000000e+00,  0.00000000e+00,  0.00000000e+00,\n",
       "         0.00000000e+00,  0.00000000e+00,  0.00000000e+00,\n",
       "         0.00000000e+00],\n",
       "       [ 0.00000000e+00,  0.00000000e+00,  0.00000000e+00,\n",
       "         0.00000000e+00,  0.00000000e+00,  0.00000000e+00,\n",
       "         0.00000000e+00,  0.00000000e+00,  0.00000000e+00,\n",
       "         0.00000000e+00,  0.00000000e+00,  0.00000000e+00,\n",
       "         0.00000000e+00,  0.00000000e+00,  0.00000000e+00,\n",
       "         0.00000000e+00,  0.00000000e+00,  0.00000000e+00,\n",
       "         0.00000000e+00,  0.00000000e+00,  0.00000000e+00,\n",
       "         0.00000000e+00,  0.00000000e+00,  0.00000000e+00,\n",
       "         0.00000000e+00,  0.00000000e+00,  0.00000000e+00,\n",
       "         0.00000000e+00]])"
      ]
     },
     "execution_count": 62,
     "metadata": {},
     "output_type": "execute_result"
    }
   ],
   "source": [
    "def filter(x, y):\n",
    "    result = np.zeros([3, 3])\n",
    "    for i in (x-1, x, x+1):\n",
    "        for j in (y-1, y, y+1):\n",
    "            result[i-(x-1)][j-(y-1)] = image_pad[i][j]\n",
    "    return np.sum(result * kernel1)\n",
    "            \n",
    "\n",
    "conv_image = np.zeros([28, 28])\n",
    "for i in range(1, 29):\n",
    "    for j in range(1, 29):\n",
    "        conv_image[i-1][j-1] = filter(i, j)\n",
    "        \n",
    "conv_image"
   ]
  },
  {
   "cell_type": "code",
   "execution_count": 63,
   "metadata": {},
   "outputs": [
    {
     "data": {
      "image/png": "[encoded data removed]",
      "text/plain": [
       "<Figure size 432x288 with 1 Axes>"
      ]
     },
     "metadata": {
      "needs_background": "light"
     },
     "output_type": "display_data"
    }
   ],
   "source": [
    "plt.figure(55)\n",
    "plt.imshow(conv_image, cmap='Greys')\n",
    "plt.show()"
   ]
  },
  {
   "cell_type": "code",
   "execution_count": 64,
   "metadata": {},
   "outputs": [
    {
     "data": {
      "text/plain": [
       "array([[0.        , 0.        , 0.        , 0.        , 0.        ,\n",
       "        0.        , 0.        , 0.        , 0.        , 0.        ,\n",
       "        0.        , 0.        , 0.        , 0.        , 0.        ,\n",
       "        0.        , 0.        , 0.        , 0.        , 0.        ,\n",
       "        0.        , 0.        , 0.        , 0.        , 0.        ,\n",
       "        0.        , 0.        , 0.        ],\n",
       "       [0.        , 0.        , 0.        , 0.        , 0.        ,\n",
       "        0.        , 0.        , 0.        , 0.        , 0.        ,\n",
       "        0.        , 0.        , 0.        , 0.        , 0.        ,\n",
       "        0.        , 0.        , 0.        , 0.        , 0.        ,\n",
       "        0.        , 0.        , 0.        , 0.        , 0.        ,\n",
       "        0.        , 0.        , 0.        ],\n",
       "       [0.        , 0.        , 0.        , 0.        , 0.        ,\n",
       "        0.        , 0.        , 0.        , 0.        , 0.        ,\n",
       "        0.        , 0.        , 0.        , 0.        , 0.        ,\n",
       "        0.        , 0.        , 0.        , 0.        , 0.        ,\n",
       "        0.        , 0.        , 0.        , 0.        , 0.        ,\n",
       "        0.        , 0.        , 0.        ],\n",
       "       [0.        , 0.        , 0.        , 0.        , 0.        ,\n",
       "        0.        , 0.        , 0.        , 0.        , 0.        ,\n",
       "        0.        , 0.        , 0.        , 0.        , 0.        ,\n",
       "        0.        , 0.        , 0.        , 0.        , 0.        ,\n",
       "        0.        , 0.        , 0.        , 0.        , 0.        ,\n",
       "        0.        , 0.        , 0.        ],\n",
       "       [0.        , 0.        , 0.        , 0.        , 0.        ,\n",
       "        0.        , 0.        , 0.        , 0.        , 0.        ,\n",
       "        0.        , 0.        , 0.        , 0.        , 0.        ,\n",
       "        0.        , 0.        , 0.        , 0.        , 0.        ,\n",
       "        0.        , 0.        , 0.        , 0.        , 0.        ,\n",
       "        0.        , 0.        , 0.        ],\n",
       "       [0.        , 0.        , 0.        , 0.        , 0.        ,\n",
       "        0.        , 0.        , 0.        , 0.        , 0.        ,\n",
       "        0.        , 0.        , 0.        , 0.        , 0.        ,\n",
       "        0.        , 0.        , 0.        , 0.        , 0.        ,\n",
       "        0.        , 0.        , 0.        , 0.        , 0.        ,\n",
       "        0.        , 0.        , 0.        ],\n",
       "       [0.        , 0.        , 0.        , 0.        , 0.        ,\n",
       "        0.        , 0.        , 0.        , 0.        , 0.        ,\n",
       "        0.        , 0.        , 0.        , 0.        , 0.        ,\n",
       "        0.        , 0.        , 0.        , 0.        , 0.21176471,\n",
       "        1.21960784, 2.70588235, 2.90980392, 1.81176471, 0.49803922,\n",
       "        0.        , 0.        , 0.        ],\n",
       "       [0.        , 0.        , 0.        , 0.        , 0.        ,\n",
       "        0.        , 0.        , 0.        , 0.        , 0.        ,\n",
       "        0.        , 0.        , 0.        , 0.        , 0.70980392,\n",
       "        0.79607843, 0.37254902, 1.        , 2.48627451, 3.22352941,\n",
       "        3.60784314, 3.65490196, 2.72941176, 1.26666667, 0.25098039,\n",
       "        0.        , 0.        , 0.        ],\n",
       "       [0.        , 0.        , 0.        , 0.        , 0.        ,\n",
       "        0.        , 0.19215686, 1.00392157, 1.81176471, 1.95294118,\n",
       "        1.5254902 , 0.57254902, 0.18823529, 1.3254902 , 3.07843137,\n",
       "        3.75686275, 3.01960784, 1.94901961, 1.43137255, 1.32941176,\n",
       "        1.18431373, 0.91372549, 0.5254902 , 0.15294118, 0.        ,\n",
       "        0.        , 0.        , 0.        ],\n",
       "       [0.        , 0.        , 0.        , 0.        , 0.        ,\n",
       "        0.        , 0.07058824, 1.        , 2.7254902 , 3.72156863,\n",
       "        3.30196078, 1.76470588, 1.02745098, 2.05490196, 2.90588235,\n",
       "        3.17254902, 3.59607843, 2.85882353, 0.94509804, 0.        ,\n",
       "        0.        , 0.        , 0.        , 0.        , 0.        ,\n",
       "        0.        , 0.        , 0.        ],\n",
       "       [0.        , 0.        , 0.        , 0.        , 0.        ,\n",
       "        0.        , 0.        , 0.31372549, 1.23921569, 1.95686275,\n",
       "        1.89803922, 1.31372549, 0.50588235, 0.15294118, 0.12941176,\n",
       "        0.20392157, 0.94117647, 1.37647059, 0.60392157, 0.        ,\n",
       "        0.        , 0.        , 0.        , 0.        , 0.        ,\n",
       "        0.        , 0.        , 0.        ],\n",
       "       [0.        , 0.        , 0.        , 0.        , 0.        ,\n",
       "        0.        , 0.        , 0.        , 0.05490196, 0.11372549,\n",
       "        0.62352941, 1.37254902, 0.41568627, 0.        , 0.        ,\n",
       "        0.        , 0.        , 0.        , 0.        , 0.        ,\n",
       "        0.        , 0.        , 0.        , 0.        , 0.        ,\n",
       "        0.        , 0.        , 0.        ],\n",
       "       [0.        , 0.        , 0.        , 0.        , 0.        ,\n",
       "        0.        , 0.        , 0.        , 0.        , 0.        ,\n",
       "        0.54509804, 1.94509804, 2.05490196, 0.        , 0.        ,\n",
       "        0.        , 0.        , 0.        , 0.        , 0.        ,\n",
       "        0.        , 0.        , 0.        , 0.        , 0.        ,\n",
       "        0.        , 0.        , 0.        ],\n",
       "       [0.        , 0.        , 0.        , 0.        , 0.        ,\n",
       "        0.        , 0.        , 0.        , 0.        , 0.        ,\n",
       "        0.04313725, 0.83137255, 2.20784314, 1.42745098, 0.        ,\n",
       "        0.        , 0.        , 0.        , 0.        , 0.        ,\n",
       "        0.        , 0.        , 0.        , 0.        , 0.        ,\n",
       "        0.        , 0.        , 0.        ],\n",
       "       [0.        , 0.        , 0.        , 0.        , 0.        ,\n",
       "        0.        , 0.        , 0.        , 0.        , 0.        ,\n",
       "        0.        , 0.1372549 , 1.21960784, 2.73333333, 2.25490196,\n",
       "        0.        , 0.        , 0.        , 0.        , 0.        ,\n",
       "        0.        , 0.        , 0.        , 0.        , 0.        ,\n",
       "        0.        , 0.        , 0.        ],\n",
       "       [0.        , 0.        , 0.        , 0.        , 0.        ,\n",
       "        0.        , 0.        , 0.        , 0.        , 0.        ,\n",
       "        0.        , 0.        , 0.31764706, 1.57647059, 3.12941176,\n",
       "        3.42745098, 1.6627451 , 0.        , 0.        , 0.        ,\n",
       "        0.        , 0.        , 0.        , 0.        , 0.        ,\n",
       "        0.        , 0.        , 0.        ],\n",
       "       [0.        , 0.        , 0.        , 0.        , 0.        ,\n",
       "        0.        , 0.        , 0.        , 0.        , 0.        ,\n",
       "        0.        , 0.        , 0.        , 0.17647059, 1.08235294,\n",
       "        2.62745098, 2.72941176, 0.61960784, 0.        , 0.        ,\n",
       "        0.        , 0.        , 0.        , 0.        , 0.        ,\n",
       "        0.        , 0.        , 0.        ],\n",
       "       [0.        , 0.        , 0.        , 0.        , 0.        ,\n",
       "        0.        , 0.        , 0.        , 0.        , 0.        ,\n",
       "        0.        , 0.        , 0.        , 0.        , 0.        ,\n",
       "        0.        , 0.        , 0.        , 0.        , 0.        ,\n",
       "        0.        , 0.        , 0.        , 0.        , 0.        ,\n",
       "        0.        , 0.        , 0.        ],\n",
       "       [0.        , 0.        , 0.        , 0.        , 0.        ,\n",
       "        0.        , 0.        , 0.        , 0.        , 0.        ,\n",
       "        0.        , 0.        , 0.        , 0.        , 0.        ,\n",
       "        0.        , 0.        , 0.        , 0.27058824, 0.78823529,\n",
       "        0.76470588, 0.25098039, 0.        , 0.        , 0.        ,\n",
       "        0.        , 0.        , 0.        ],\n",
       "       [0.        , 0.        , 0.        , 0.        , 0.        ,\n",
       "        0.        , 0.        , 0.        , 0.        , 0.        ,\n",
       "        0.        , 0.        , 0.        , 0.        , 0.        ,\n",
       "        0.        , 0.        , 0.81960784, 2.38823529, 2.31764706,\n",
       "        0.82745098, 0.00784314, 0.        , 0.        , 0.        ,\n",
       "        0.        , 0.        , 0.        ],\n",
       "       [0.        , 0.        , 0.        , 0.        , 0.        ,\n",
       "        0.        , 0.        , 0.        , 0.        , 0.        ,\n",
       "        0.        , 0.        , 0.        , 0.        , 0.        ,\n",
       "        1.01176471, 2.54901961, 3.62352941, 3.65882353, 2.40784314,\n",
       "        0.71372549, 0.        , 0.        , 0.        , 0.        ,\n",
       "        0.        , 0.        , 0.        ],\n",
       "       [0.        , 0.        , 0.        , 0.        , 0.        ,\n",
       "        0.        , 0.        , 0.        , 0.        , 0.        ,\n",
       "        0.        , 0.        , 0.        , 1.00784314, 2.54117647,\n",
       "        3.58431373, 3.72941176, 2.8745098 , 1.4       , 0.30588235,\n",
       "        0.        , 0.        , 0.        , 0.        , 0.        ,\n",
       "        0.        , 0.        , 0.        ],\n",
       "       [0.        , 0.        , 0.        , 0.        , 0.        ,\n",
       "        0.        , 0.        , 0.        , 0.        , 0.        ,\n",
       "        0.        , 0.38431373, 1.9254902 , 3.36078431, 3.70980392,\n",
       "        2.8627451 , 1.41960784, 0.33333333, 0.00784314, 0.        ,\n",
       "        0.        , 0.        , 0.        , 0.        , 0.        ,\n",
       "        0.        , 0.        , 0.        ],\n",
       "       [0.        , 0.        , 0.        , 0.        , 0.        ,\n",
       "        0.        , 0.        , 0.        , 0.19607843, 1.42745098,\n",
       "        2.34117647, 3.3254902 , 3.67843137, 2.83529412, 1.42745098,\n",
       "        0.38431373, 0.03529412, 0.        , 0.        , 0.        ,\n",
       "        0.        , 0.        , 0.        , 0.        , 0.        ,\n",
       "        0.        , 0.        , 0.        ],\n",
       "       [0.        , 0.        , 0.        , 0.21568627, 1.10588235,\n",
       "        2.45098039, 3.43921569, 3.8627451 , 3.96862745, 3.96862745,\n",
       "        3.93333333, 3.42745098, 2.04313725, 0.60784314, 0.04313725,\n",
       "        0.        , 0.        , 0.        , 0.        , 0.        ,\n",
       "        0.        , 0.        , 0.        , 0.        , 0.        ,\n",
       "        0.        , 0.        , 0.        ],\n",
       "       [0.        , 0.        , 0.        , 0.53333333, 2.05882353,\n",
       "        3.50980392, 3.96862745, 3.80784314, 3.18431373, 2.40784314,\n",
       "        1.62745098, 0.64313725, 0.0627451 , 0.        , 0.        ,\n",
       "        0.        , 0.        , 0.        , 0.        , 0.        ,\n",
       "        0.        , 0.        , 0.        , 0.        , 0.        ,\n",
       "        0.        , 0.        , 0.        ],\n",
       "       [0.        , 0.        , 0.        , 0.        , 0.        ,\n",
       "        0.        , 0.        , 0.        , 0.        , 0.        ,\n",
       "        0.        , 0.        , 0.        , 0.        , 0.        ,\n",
       "        0.        , 0.        , 0.        , 0.        , 0.        ,\n",
       "        0.        , 0.        , 0.        , 0.        , 0.        ,\n",
       "        0.        , 0.        , 0.        ],\n",
       "       [0.        , 0.        , 0.        , 0.        , 0.        ,\n",
       "        0.        , 0.        , 0.        , 0.        , 0.        ,\n",
       "        0.        , 0.        , 0.        , 0.        , 0.        ,\n",
       "        0.        , 0.        , 0.        , 0.        , 0.        ,\n",
       "        0.        , 0.        , 0.        , 0.        , 0.        ,\n",
       "        0.        , 0.        , 0.        ]])"
      ]
     },
     "execution_count": 64,
     "metadata": {},
     "output_type": "execute_result"
    }
   ],
   "source": [
    "for i in range(28):\n",
    "    for j in range(28):\n",
    "        conv_image[i][j] = max(conv_image[i][j], 0)\n",
    "conv_image"
   ]
  },
  {
   "cell_type": "code",
   "execution_count": 65,
   "metadata": {},
   "outputs": [
    {
     "data": {
      "image/png": "[encoded data removed]",
      "text/plain": [
       "<Figure size 432x288 with 1 Axes>"
      ]
     },
     "metadata": {
      "needs_background": "light"
     },
     "output_type": "display_data"
    }
   ],
   "source": [
    "    \n",
    "plt.figure(55)\n",
    "plt.imshow(conv_image, cmap='Greys')\n",
    "plt.show()"
   ]
  },
  {
   "cell_type": "code",
   "execution_count": null,
   "metadata": {},
   "outputs": [],
   "source": []
  },
  {
   "cell_type": "code",
   "execution_count": null,
   "metadata": {},
   "outputs": [],
   "source": []
  }
 ],
 "metadata": {
  "kernelspec": {
   "display_name": "tensorflow",
   "language": "python",
   "name": "tensorflow_env"
  },
  "language_info": {
   "codemirror_mode": {
    "name": "ipython",
    "version": 3
   },
   "file_extension": ".py",
   "mimetype": "text/x-python",
   "name": "python",
   "nbconvert_exporter": "python",
   "pygments_lexer": "ipython3",
   "version": "3.8.5"
  }
 },
 "nbformat": 4,
 "nbformat_minor": 4
}
