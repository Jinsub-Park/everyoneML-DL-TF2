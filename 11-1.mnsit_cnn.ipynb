{
 "cells": [
  {
   "cell_type": "code",
   "execution_count": 1,
   "metadata": {},
   "outputs": [],
   "source": [
    "import numpy as np\n",
    "import tensorflow as tf\n",
    "import random"
   ]
  },
  {
   "cell_type": "markdown",
   "metadata": {},
   "source": [
    "# Mnist Data\n",
    "Tuple of Numpy arrays: (x_train, y_train), (x_test, y_test).\n",
    "x_train, x_test: uint8 arrays of grayscale image data with shapes (num_samples, 28, 28).\n",
    "\n",
    "y_train, y_test: uint8 arrays of digit labels (integers in range 0-9) with shapes (num_samples,)."
   ]
  },
  {
   "cell_type": "code",
   "execution_count": 2,
   "metadata": {},
   "outputs": [],
   "source": [
    "(x_train, y_train), (x_test, y_test) = tf.keras.datasets.mnist.load_data()"
   ]
  },
  {
   "cell_type": "code",
   "execution_count": 3,
   "metadata": {},
   "outputs": [
    {
     "name": "stdout",
     "output_type": "stream",
     "text": [
      "(60000, 28, 28, 1)\n",
      "(10000, 28, 28, 1)\n"
     ]
    }
   ],
   "source": [
    "x_train = x_train.reshape(-1, 28, 28, 1)\n",
    "x_test = x_test.reshape(-1, 28, 28, 1)\n",
    "print(x_train.shape)\n",
    "print(x_test.shape)"
   ]
  },
  {
   "cell_type": "code",
   "execution_count": 4,
   "metadata": {},
   "outputs": [
    {
     "name": "stdout",
     "output_type": "stream",
     "text": [
      "[[0. 0. 0. ... 0. 0. 0.]\n",
      " [1. 0. 0. ... 0. 0. 0.]\n",
      " [0. 0. 0. ... 0. 0. 0.]\n",
      " ...\n",
      " [0. 0. 0. ... 0. 0. 0.]\n",
      " [0. 0. 0. ... 0. 0. 0.]\n",
      " [0. 0. 0. ... 0. 1. 0.]]\n",
      "[[0. 0. 0. ... 1. 0. 0.]\n",
      " [0. 0. 1. ... 0. 0. 0.]\n",
      " [0. 1. 0. ... 0. 0. 0.]\n",
      " ...\n",
      " [0. 0. 0. ... 0. 0. 0.]\n",
      " [0. 0. 0. ... 0. 0. 0.]\n",
      " [0. 0. 0. ... 0. 0. 0.]]\n"
     ]
    }
   ],
   "source": [
    "y_train = tf.keras.utils.to_categorical(y_train, 10)\n",
    "y_test = tf.keras.utils.to_categorical(y_test, 10)\n",
    "print(y_train)\n",
    "print(y_test)"
   ]
  },
  {
   "cell_type": "code",
   "execution_count": 5,
   "metadata": {},
   "outputs": [],
   "source": [
    "# hyper parameters\n",
    "learning_rate = 0.001\n",
    "training_epochs = 15\n",
    "batch_size = 128\n",
    "dropout_rate = 0.3"
   ]
  },
  {
   "cell_type": "code",
   "execution_count": 6,
   "metadata": {},
   "outputs": [],
   "source": [
    "model = tf.keras.Sequential()\n",
    "\n",
    "model.add(tf.keras.layers.Conv2D(filters=64, kernel_size=(3, 3), input_shape=(28, 28, 1), activation='relu', padding='same'))\n",
    "model.add(tf.keras.layers.MaxPool2D(pool_size=(2, 2)))\n",
    "model.add(tf.keras.layers.Dropout(dropout_rate))\n",
    "\n",
    "model.add(tf.keras.layers.Conv2D(filters=64, kernel_size=(3, 3), activation='relu', padding='same'))\n",
    "model.add(tf.keras.layers.MaxPool2D(pool_size=(2, 2)))\n",
    "model.add(tf.keras.layers.Dropout(dropout_rate))\n",
    "\n",
    "model.add(tf.keras.layers.Conv2D(filters=64, kernel_size=(3, 3), activation='relu', padding='valid'))\n",
    "model.add(tf.keras.layers.Dropout(dropout_rate))\n",
    "\n",
    "model.add(tf.keras.layers.Flatten())\n",
    "model.add(tf.keras.layers.Dense(units=5 * 5 * 64, kernel_initializer='glorot_normal', activation='relu'))\n",
    "model.add(tf.keras.layers.Dense(units=10, kernel_initializer='glorot_normal', activation='softmax'))"
   ]
  },
  {
   "cell_type": "code",
   "execution_count": 7,
   "metadata": {},
   "outputs": [
    {
     "name": "stdout",
     "output_type": "stream",
     "text": [
      "Model: \"sequential\"\n",
      "_________________________________________________________________\n",
      "Layer (type)                 Output Shape              Param #   \n",
      "=================================================================\n",
      "conv2d (Conv2D)              (None, 28, 28, 64)        640       \n",
      "_________________________________________________________________\n",
      "max_pooling2d (MaxPooling2D) (None, 14, 14, 64)        0         \n",
      "_________________________________________________________________\n",
      "dropout (Dropout)            (None, 14, 14, 64)        0         \n",
      "_________________________________________________________________\n",
      "conv2d_1 (Conv2D)            (None, 14, 14, 64)        36928     \n",
      "_________________________________________________________________\n",
      "max_pooling2d_1 (MaxPooling2 (None, 7, 7, 64)          0         \n",
      "_________________________________________________________________\n",
      "dropout_1 (Dropout)          (None, 7, 7, 64)          0         \n",
      "_________________________________________________________________\n",
      "conv2d_2 (Conv2D)            (None, 5, 5, 64)          36928     \n",
      "_________________________________________________________________\n",
      "dropout_2 (Dropout)          (None, 5, 5, 64)          0         \n",
      "_________________________________________________________________\n",
      "flatten (Flatten)            (None, 1600)              0         \n",
      "_________________________________________________________________\n",
      "dense (Dense)                (None, 1600)              2561600   \n",
      "_________________________________________________________________\n",
      "dense_1 (Dense)              (None, 10)                16010     \n",
      "=================================================================\n",
      "Total params: 2,652,106\n",
      "Trainable params: 2,652,106\n",
      "Non-trainable params: 0\n",
      "_________________________________________________________________\n"
     ]
    }
   ],
   "source": [
    "model.summary()"
   ]
  },
  {
   "cell_type": "code",
   "execution_count": 8,
   "metadata": {},
   "outputs": [],
   "source": [
    "model.compile(loss='categorical_crossentropy', optimizer=tf.keras.optimizers.Adam(lr=learning_rate), metrics=['binary_accuracy', 'categorical_accuracy'])"
   ]
  },
  {
   "cell_type": "code",
   "execution_count": 9,
   "metadata": {},
   "outputs": [
    {
     "name": "stdout",
     "output_type": "stream",
     "text": [
      "Epoch 1/15\n",
      "469/469 [==============================] - 8s 10ms/step - loss: 4.4727 - binary_accuracy: 0.9386 - categorical_accuracy: 0.6373\n",
      "Epoch 2/15\n",
      "469/469 [==============================] - 5s 10ms/step - loss: 0.1758 - binary_accuracy: 0.9891 - categorical_accuracy: 0.9442\n",
      "Epoch 3/15\n",
      "469/469 [==============================] - 5s 10ms/step - loss: 0.1149 - binary_accuracy: 0.9928 - categorical_accuracy: 0.9634\n",
      "Epoch 4/15\n",
      "469/469 [==============================] - 5s 10ms/step - loss: 0.0861 - binary_accuracy: 0.9947 - categorical_accuracy: 0.9730\n",
      "Epoch 5/15\n",
      "469/469 [==============================] - 5s 10ms/step - loss: 0.0738 - binary_accuracy: 0.9954 - categorical_accuracy: 0.9769\n",
      "Epoch 6/15\n",
      "469/469 [==============================] - 5s 10ms/step - loss: 0.0642 - binary_accuracy: 0.9961 - categorical_accuracy: 0.9806\n",
      "Epoch 7/15\n",
      "469/469 [==============================] - 5s 10ms/step - loss: 0.0633 - binary_accuracy: 0.9960 - categorical_accuracy: 0.9797\n",
      "Epoch 8/15\n",
      "469/469 [==============================] - 5s 10ms/step - loss: 0.0526 - binary_accuracy: 0.9966 - categorical_accuracy: 0.9825\n",
      "Epoch 9/15\n",
      "469/469 [==============================] - 5s 10ms/step - loss: 0.0501 - binary_accuracy: 0.9969 - categorical_accuracy: 0.9842\n",
      "Epoch 10/15\n",
      "469/469 [==============================] - 5s 10ms/step - loss: 0.0486 - binary_accuracy: 0.9970 - categorical_accuracy: 0.9848\n",
      "Epoch 11/15\n",
      "469/469 [==============================] - 5s 10ms/step - loss: 0.0499 - binary_accuracy: 0.9969 - categorical_accuracy: 0.9843\n",
      "Epoch 12/15\n",
      "469/469 [==============================] - 5s 10ms/step - loss: 0.0433 - binary_accuracy: 0.9974 - categorical_accuracy: 0.9869\n",
      "Epoch 13/15\n",
      "469/469 [==============================] - 5s 10ms/step - loss: 0.0440 - binary_accuracy: 0.9973 - categorical_accuracy: 0.9863\n",
      "Epoch 14/15\n",
      "469/469 [==============================] - 5s 10ms/step - loss: 0.0440 - binary_accuracy: 0.9972 - categorical_accuracy: 0.9859\n",
      "Epoch 15/15\n",
      "469/469 [==============================] - 5s 10ms/step - loss: 0.0420 - binary_accuracy: 0.9976 - categorical_accuracy: 0.9877\n"
     ]
    }
   ],
   "source": [
    "history = model.fit(x_train, y_train, batch_size=batch_size, epochs=training_epochs)"
   ]
  },
  {
   "cell_type": "code",
   "execution_count": 10,
   "metadata": {},
   "outputs": [
    {
     "name": "stdout",
     "output_type": "stream",
     "text": [
      "index:  7110 actual y:  6 predicted y:  6\n",
      "index:  5176 actual y:  8 predicted y:  8\n",
      "index:  8802 actual y:  4 predicted y:  4\n",
      "index:  2390 actual y:  2 predicted y:  2\n",
      "index:  4484 actual y:  6 predicted y:  6\n",
      "index:  7467 actual y:  7 predicted y:  7\n",
      "index:  6417 actual y:  4 predicted y:  4\n",
      "index:  2218 actual y:  4 predicted y:  4\n",
      "index:  5142 actual y:  8 predicted y:  8\n",
      "index:  9590 actual y:  5 predicted y:  5\n",
      "313/313 [==============================] - 2s 5ms/step - loss: 0.0289 - binary_accuracy: 0.9983 - categorical_accuracy: 0.9907\n",
      "loss:  0.028875311836600304\n",
      "accuracy 0.9982596635818481\n"
     ]
    }
   ],
   "source": [
    "# predict 10 random hand-writing data\n",
    "y_predicted = model.predict(x_test)\n",
    "for x in range(0, 10):\n",
    "    random_index = random.randint(0, x_test.shape[0]-1)\n",
    "    print(\"index: \", random_index,\n",
    "          \"actual y: \", np.argmax(y_test[random_index]),\n",
    "          \"predicted y: \", np.argmax(y_predicted[random_index]))\n",
    "\n",
    "evaluation = model.evaluate(x_test, y_test)\n",
    "print('loss: ', evaluation[0])\n",
    "print('accuracy', evaluation[1])"
   ]
  }
 ],
 "metadata": {
  "kernelspec": {
   "display_name": "tensorflow",
   "language": "python",
   "name": "tensorflow_env"
  },
  "language_info": {
   "codemirror_mode": {
    "name": "ipython",
    "version": 3
   },
   "file_extension": ".py",
   "mimetype": "text/x-python",
   "name": "python",
   "nbconvert_exporter": "python",
   "pygments_lexer": "ipython3",
   "version": "3.8.5"
  }
 },
 "nbformat": 4,
 "nbformat_minor": 4
}
