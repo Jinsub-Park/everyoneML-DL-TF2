{
 "cells": [
  {
   "cell_type": "code",
   "execution_count": 1,
   "metadata": {},
   "outputs": [],
   "source": [
    "import numpy as np\n",
    "import tensorflow as tf\n",
    "import random"
   ]
  },
  {
   "cell_type": "markdown",
   "metadata": {},
   "source": [
    "# Mnist Data\n",
    "Tuple of Numpy arrays: (x_train, y_train), (x_test, y_test).\n",
    "x_train, x_test: uint8 arrays of grayscale image data with shapes (num_samples, 28, 28).\n",
    "\n",
    "y_train, y_test: uint8 arrays of digit labels (integers in range 0-9) with shapes (num_samples,)."
   ]
  },
  {
   "cell_type": "code",
   "execution_count": 2,
   "metadata": {},
   "outputs": [],
   "source": [
    "(x_train, y_train), (x_test, y_test) = tf.keras.datasets.mnist.load_data()"
   ]
  },
  {
   "cell_type": "code",
   "execution_count": 3,
   "metadata": {},
   "outputs": [
    {
     "name": "stdout",
     "output_type": "stream",
     "text": [
      "(60000, 28, 28, 1)\n",
      "(10000, 28, 28, 1)\n"
     ]
    }
   ],
   "source": [
    "x_train = x_train.reshape(-1, 28, 28, 1)\n",
    "x_test = x_test.reshape(-1, 28, 28, 1)\n",
    "print(x_train.shape)\n",
    "print(x_test.shape)"
   ]
  },
  {
   "cell_type": "code",
   "execution_count": 4,
   "metadata": {},
   "outputs": [
    {
     "name": "stdout",
     "output_type": "stream",
     "text": [
      "[[0. 0. 0. ... 0. 0. 0.]\n",
      " [1. 0. 0. ... 0. 0. 0.]\n",
      " [0. 0. 0. ... 0. 0. 0.]\n",
      " ...\n",
      " [0. 0. 0. ... 0. 0. 0.]\n",
      " [0. 0. 0. ... 0. 0. 0.]\n",
      " [0. 0. 0. ... 0. 1. 0.]]\n",
      "[[0. 0. 0. ... 1. 0. 0.]\n",
      " [0. 0. 1. ... 0. 0. 0.]\n",
      " [0. 1. 0. ... 0. 0. 0.]\n",
      " ...\n",
      " [0. 0. 0. ... 0. 0. 0.]\n",
      " [0. 0. 0. ... 0. 0. 0.]\n",
      " [0. 0. 0. ... 0. 0. 0.]]\n"
     ]
    }
   ],
   "source": [
    "y_train = tf.keras.utils.to_categorical(y_train, 10)\n",
    "y_test = tf.keras.utils.to_categorical(y_test, 10)\n",
    "print(y_train)\n",
    "print(y_test)"
   ]
  },
  {
   "cell_type": "code",
   "execution_count": 5,
   "metadata": {},
   "outputs": [],
   "source": [
    "# hyper parameters\n",
    "learning_rate = 0.001\n",
    "training_epochs = 15\n",
    "batch_size = 128"
   ]
  },
  {
   "cell_type": "code",
   "execution_count": 6,
   "metadata": {},
   "outputs": [],
   "source": [
    "def make_model(learing_rate):\n",
    "    model = tf.keras.Sequential()\n",
    "\n",
    "    model.add(tf.keras.layers.Conv2D(filters=64, kernel_size=(3, 3), input_shape=(28, 28, 1), activation='relu'))\n",
    "    model.add(tf.keras.layers.MaxPool2D(pool_size=(2, 2)))\n",
    "\n",
    "    model.add(tf.keras.layers.Conv2D(filters=64, kernel_size=(3, 3), activation='relu'))\n",
    "    model.add(tf.keras.layers.MaxPool2D(pool_size=(2, 2)))\n",
    "\n",
    "    model.add(tf.keras.layers.Flatten())\n",
    "    model.add(tf.keras.layers.Dense(units=10, kernel_initializer='glorot_normal', activation='softmax'))\n",
    "\n",
    "    model.compile(loss='categorical_crossentropy', optimizer=tf.keras.optimizers.Adam(lr=learning_rate), metrics=['accuracy'])\n",
    "    return model"
   ]
  },
  {
   "cell_type": "code",
   "execution_count": 7,
   "metadata": {},
   "outputs": [],
   "source": [
    "def train_model(x_train, y_train, model):\n",
    "    history = model.fit(x_train, y_train, batch_size=batch_size, epochs=training_epochs)\n",
    "    return history"
   ]
  },
  {
   "cell_type": "code",
   "execution_count": 8,
   "metadata": {},
   "outputs": [],
   "source": [
    "# predict 10 random hand-writing data\n",
    "def predict_model(x_test, y_test, model):\n",
    "    y_predicted = model.predict(x_test)\n",
    "    for x in range(0, 10):\n",
    "        random_index = random.randint(0, x_test.shape[0]-1)\n",
    "        print(\"index: \", random_index,\n",
    "              \"actual y: \", np.argmax(y_test[random_index]),\n",
    "              \"predicted y: \", np.argmax(y_predicted[random_index]))\n",
    "\n",
    "    evaluation = model.evaluate(x_test, y_test)\n",
    "    print('loss: ', evaluation[0])\n",
    "    print('accuracy', evaluation[1])"
   ]
  },
  {
   "cell_type": "code",
   "execution_count": 9,
   "metadata": {},
   "outputs": [
    {
     "name": "stdout",
     "output_type": "stream",
     "text": [
      "Epoch 1/15\n",
      "469/469 [==============================] - 31s 64ms/step - loss: 3.1955 - accuracy: 0.8086\n",
      "Epoch 2/15\n",
      "469/469 [==============================] - 30s 64ms/step - loss: 0.0976 - accuracy: 0.9722\n",
      "Epoch 3/15\n",
      "469/469 [==============================] - 30s 64ms/step - loss: 0.0613 - accuracy: 0.9816\n",
      "Epoch 4/15\n",
      "469/469 [==============================] - 30s 63ms/step - loss: 0.0457 - accuracy: 0.9855\n",
      "Epoch 5/15\n",
      "469/469 [==============================] - 30s 63ms/step - loss: 0.0372 - accuracy: 0.9883\n",
      "Epoch 6/15\n",
      "469/469 [==============================] - 32s 67ms/step - loss: 0.0304 - accuracy: 0.9907\n",
      "Epoch 7/15\n",
      "469/469 [==============================] - 32s 68ms/step - loss: 0.0263 - accuracy: 0.9914\n",
      "Epoch 8/15\n",
      "469/469 [==============================] - 30s 65ms/step - loss: 0.0237 - accuracy: 0.9921\n",
      "Epoch 9/15\n",
      "469/469 [==============================] - 32s 68ms/step - loss: 0.0254 - accuracy: 0.9916\n",
      "Epoch 10/15\n",
      "469/469 [==============================] - 32s 69ms/step - loss: 0.0229 - accuracy: 0.9917\n",
      "Epoch 11/15\n",
      "469/469 [==============================] - 30s 65ms/step - loss: 0.0191 - accuracy: 0.9940\n",
      "Epoch 12/15\n",
      "469/469 [==============================] - 31s 65ms/step - loss: 0.0206 - accuracy: 0.9929\n",
      "Epoch 13/15\n",
      "469/469 [==============================] - 30s 64ms/step - loss: 0.0208 - accuracy: 0.9936\n",
      "Epoch 14/15\n",
      "469/469 [==============================] - 30s 64ms/step - loss: 0.0234 - accuracy: 0.9924\n",
      "Epoch 15/15\n",
      "469/469 [==============================] - 32s 67ms/step - loss: 0.0165 - accuracy: 0.9948\n",
      "index:  6563 actual y:  3 predicted y:  3\n",
      "index:  3654 actual y:  5 predicted y:  5\n",
      "index:  6674 actual y:  7 predicted y:  7\n",
      "index:  9784 actual y:  9 predicted y:  9\n",
      "index:  128 actual y:  8 predicted y:  8\n",
      "index:  7681 actual y:  6 predicted y:  6\n",
      "index:  9018 actual y:  2 predicted y:  2\n",
      "index:  4635 actual y:  3 predicted y:  3\n",
      "index:  239 actual y:  1 predicted y:  1\n",
      "index:  7027 actual y:  8 predicted y:  8\n",
      "313/313 [==============================] - 2s 7ms/step - loss: 0.0680 - accuracy: 0.9843\n",
      "loss:  0.06798145174980164\n",
      "accuracy 0.9843000173568726\n"
     ]
    }
   ],
   "source": [
    "with tf.device('/cpu:0'):\n",
    "    model_cpu = make_model(learning_rate)\n",
    "    history_cpu = train_model(x_train, y_train, model_cpu)\n",
    "    predict_model(x_test, y_test, model_cpu)"
   ]
  },
  {
   "cell_type": "code",
   "execution_count": 10,
   "metadata": {},
   "outputs": [
    {
     "name": "stdout",
     "output_type": "stream",
     "text": [
      "Epoch 1/15\n",
      "469/469 [==============================] - 6s 7ms/step - loss: 2.9091 - accuracy: 0.8051\n",
      "Epoch 2/15\n",
      "469/469 [==============================] - 3s 6ms/step - loss: 0.0931 - accuracy: 0.9734\n",
      "Epoch 3/15\n",
      "469/469 [==============================] - 3s 6ms/step - loss: 0.0596 - accuracy: 0.9828\n",
      "Epoch 4/15\n",
      "469/469 [==============================] - 3s 6ms/step - loss: 0.0431 - accuracy: 0.9863\n",
      "Epoch 5/15\n",
      "469/469 [==============================] - 3s 6ms/step - loss: 0.0343 - accuracy: 0.9880\n",
      "Epoch 6/15\n",
      "469/469 [==============================] - 3s 6ms/step - loss: 0.0260 - accuracy: 0.9913\n",
      "Epoch 7/15\n",
      "469/469 [==============================] - 3s 6ms/step - loss: 0.0230 - accuracy: 0.9927\n",
      "Epoch 8/15\n",
      "469/469 [==============================] - 3s 7ms/step - loss: 0.0206 - accuracy: 0.9928\n",
      "Epoch 9/15\n",
      "469/469 [==============================] - 3s 6ms/step - loss: 0.0211 - accuracy: 0.9930\n",
      "Epoch 10/15\n",
      "469/469 [==============================] - 3s 6ms/step - loss: 0.0221 - accuracy: 0.9925\n",
      "Epoch 11/15\n",
      "469/469 [==============================] - 3s 7ms/step - loss: 0.0202 - accuracy: 0.9938\n",
      "Epoch 12/15\n",
      "469/469 [==============================] - 3s 7ms/step - loss: 0.0180 - accuracy: 0.9942\n",
      "Epoch 13/15\n",
      "469/469 [==============================] - 3s 6ms/step - loss: 0.0171 - accuracy: 0.9946\n",
      "Epoch 14/15\n",
      "469/469 [==============================] - 3s 7ms/step - loss: 0.0228 - accuracy: 0.9936\n",
      "Epoch 15/15\n",
      "469/469 [==============================] - 3s 6ms/step - loss: 0.0195 - accuracy: 0.9941\n",
      "index:  5479 actual y:  3 predicted y:  3\n",
      "index:  9948 actual y:  0 predicted y:  0\n",
      "index:  3646 actual y:  0 predicted y:  0\n",
      "index:  5646 actual y:  1 predicted y:  1\n",
      "index:  1137 actual y:  1 predicted y:  1\n",
      "index:  4859 actual y:  1 predicted y:  1\n",
      "index:  2924 actual y:  3 predicted y:  3\n",
      "index:  230 actual y:  3 predicted y:  3\n",
      "index:  3333 actual y:  7 predicted y:  7\n",
      "index:  6771 actual y:  6 predicted y:  6\n",
      "313/313 [==============================] - 1s 3ms/step - loss: 0.0807 - accuracy: 0.9847\n",
      "loss:  0.08066350966691971\n",
      "accuracy 0.9847000241279602\n"
     ]
    }
   ],
   "source": [
    "with tf.device('/gpu:0'):\n",
    "    model_cpu = make_model(learning_rate)\n",
    "    history_cpu = train_model(x_train, y_train, model_cpu)\n",
    "    predict_model(x_test, y_test, model_cpu)"
   ]
  }
 ],
 "metadata": {
  "kernelspec": {
   "display_name": "Python 3",
   "language": "python",
   "name": "python3"
  },
  "language_info": {
   "codemirror_mode": {
    "name": "ipython",
    "version": 3
   },
   "file_extension": ".py",
   "mimetype": "text/x-python",
   "name": "python",
   "nbconvert_exporter": "python",
   "pygments_lexer": "ipython3",
   "version": "3.8.5"
  }
 },
 "nbformat": 4,
 "nbformat_minor": 4
}
